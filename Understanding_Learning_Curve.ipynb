{
  "nbformat": 4,
  "nbformat_minor": 0,
  "metadata": {
    "colab": {
      "name": "Understanding Learning Curve.ipynb",
      "provenance": []
    },
    "kernelspec": {
      "name": "python3",
      "display_name": "Python 3"
    },
    "language_info": {
      "name": "python"
    }
  },
  "cells": [
    {
      "cell_type": "code",
      "metadata": {
        "id": "rayDQBe5iZmV"
      },
      "source": [
        "import pandas as pd \n",
        "import seaborn as sns\n",
        "import numpy as np \n",
        "import matplotlib.pyplot as plt\n",
        "\n",
        "import warnings\n",
        "warnings.filterwarnings('ignore')"
      ],
      "execution_count": 81,
      "outputs": []
    },
    {
      "cell_type": "markdown",
      "metadata": {
        "id": "9Tu14nBMihk0"
      },
      "source": [
        "\n",
        "Learning curves plot the training and validation loss of a sample of training examples by incrementally adding new training examples. Learning curves help us in identifying whether adding additional training examples would improve the validation score (score on unseen data). If a model is overfit, then adding additional training examples might improve the model performance on unseen data. Similarly, if a model is underfit, then adding training examples doesn’t help. \n",
        "\n",
        "In this example we will fit a Logistic Regression and evaluate for overfitting and underfitting"
      ]
    },
    {
      "cell_type": "code",
      "metadata": {
        "colab": {
          "base_uri": "https://localhost:8080/",
          "height": 198
        },
        "id": "DmkIuz_SioDD",
        "outputId": "296344af-d5dd-4cdb-e45a-2fdf15b3032c"
      },
      "source": [
        "df = sns.load_dataset('iris')\n",
        "df.head()"
      ],
      "execution_count": 82,
      "outputs": [
        {
          "output_type": "execute_result",
          "data": {
            "text/html": [
              "<div>\n",
              "<style scoped>\n",
              "    .dataframe tbody tr th:only-of-type {\n",
              "        vertical-align: middle;\n",
              "    }\n",
              "\n",
              "    .dataframe tbody tr th {\n",
              "        vertical-align: top;\n",
              "    }\n",
              "\n",
              "    .dataframe thead th {\n",
              "        text-align: right;\n",
              "    }\n",
              "</style>\n",
              "<table border=\"1\" class=\"dataframe\">\n",
              "  <thead>\n",
              "    <tr style=\"text-align: right;\">\n",
              "      <th></th>\n",
              "      <th>sepal_length</th>\n",
              "      <th>sepal_width</th>\n",
              "      <th>petal_length</th>\n",
              "      <th>petal_width</th>\n",
              "      <th>species</th>\n",
              "    </tr>\n",
              "  </thead>\n",
              "  <tbody>\n",
              "    <tr>\n",
              "      <th>0</th>\n",
              "      <td>5.1</td>\n",
              "      <td>3.5</td>\n",
              "      <td>1.4</td>\n",
              "      <td>0.2</td>\n",
              "      <td>setosa</td>\n",
              "    </tr>\n",
              "    <tr>\n",
              "      <th>1</th>\n",
              "      <td>4.9</td>\n",
              "      <td>3.0</td>\n",
              "      <td>1.4</td>\n",
              "      <td>0.2</td>\n",
              "      <td>setosa</td>\n",
              "    </tr>\n",
              "    <tr>\n",
              "      <th>2</th>\n",
              "      <td>4.7</td>\n",
              "      <td>3.2</td>\n",
              "      <td>1.3</td>\n",
              "      <td>0.2</td>\n",
              "      <td>setosa</td>\n",
              "    </tr>\n",
              "    <tr>\n",
              "      <th>3</th>\n",
              "      <td>4.6</td>\n",
              "      <td>3.1</td>\n",
              "      <td>1.5</td>\n",
              "      <td>0.2</td>\n",
              "      <td>setosa</td>\n",
              "    </tr>\n",
              "    <tr>\n",
              "      <th>4</th>\n",
              "      <td>5.0</td>\n",
              "      <td>3.6</td>\n",
              "      <td>1.4</td>\n",
              "      <td>0.2</td>\n",
              "      <td>setosa</td>\n",
              "    </tr>\n",
              "  </tbody>\n",
              "</table>\n",
              "</div>"
            ],
            "text/plain": [
              "   sepal_length  sepal_width  petal_length  petal_width species\n",
              "0           5.1          3.5           1.4          0.2  setosa\n",
              "1           4.9          3.0           1.4          0.2  setosa\n",
              "2           4.7          3.2           1.3          0.2  setosa\n",
              "3           4.6          3.1           1.5          0.2  setosa\n",
              "4           5.0          3.6           1.4          0.2  setosa"
            ]
          },
          "metadata": {
            "tags": []
          },
          "execution_count": 82
        }
      ]
    },
    {
      "cell_type": "code",
      "metadata": {
        "id": "OnvtSzD_jOck"
      },
      "source": [
        "from sklearn.preprocessing import LabelEncoder\n",
        "le = LabelEncoder()\n",
        "df['species'] = le.fit_transform(df['species']) #transform target column"
      ],
      "execution_count": 83,
      "outputs": []
    },
    {
      "cell_type": "code",
      "metadata": {
        "id": "3355oD9_6Nd-"
      },
      "source": [
        "X = df.drop('species',axis=1)\n",
        "y = df['species']"
      ],
      "execution_count": 84,
      "outputs": []
    },
    {
      "cell_type": "code",
      "metadata": {
        "id": "ujNJzeirjoT8"
      },
      "source": [
        "from sklearn.preprocessing import StandardScaler\n",
        "col_list = list(X.columns)\n",
        "sc = StandardScaler()\n",
        "scaled = sc.fit_transform(X)"
      ],
      "execution_count": 85,
      "outputs": []
    },
    {
      "cell_type": "code",
      "metadata": {
        "colab": {
          "base_uri": "https://localhost:8080/",
          "height": 198
        },
        "id": "vJWh87nwj-W_",
        "outputId": "5ba35b70-7b5c-4db2-b5c4-10045c7799cd"
      },
      "source": [
        "X_scaled = pd.DataFrame(scaled,columns=col_list)\n",
        "X_scaled.head()"
      ],
      "execution_count": 86,
      "outputs": [
        {
          "output_type": "execute_result",
          "data": {
            "text/html": [
              "<div>\n",
              "<style scoped>\n",
              "    .dataframe tbody tr th:only-of-type {\n",
              "        vertical-align: middle;\n",
              "    }\n",
              "\n",
              "    .dataframe tbody tr th {\n",
              "        vertical-align: top;\n",
              "    }\n",
              "\n",
              "    .dataframe thead th {\n",
              "        text-align: right;\n",
              "    }\n",
              "</style>\n",
              "<table border=\"1\" class=\"dataframe\">\n",
              "  <thead>\n",
              "    <tr style=\"text-align: right;\">\n",
              "      <th></th>\n",
              "      <th>sepal_length</th>\n",
              "      <th>sepal_width</th>\n",
              "      <th>petal_length</th>\n",
              "      <th>petal_width</th>\n",
              "    </tr>\n",
              "  </thead>\n",
              "  <tbody>\n",
              "    <tr>\n",
              "      <th>0</th>\n",
              "      <td>-0.900681</td>\n",
              "      <td>1.019004</td>\n",
              "      <td>-1.340227</td>\n",
              "      <td>-1.315444</td>\n",
              "    </tr>\n",
              "    <tr>\n",
              "      <th>1</th>\n",
              "      <td>-1.143017</td>\n",
              "      <td>-0.131979</td>\n",
              "      <td>-1.340227</td>\n",
              "      <td>-1.315444</td>\n",
              "    </tr>\n",
              "    <tr>\n",
              "      <th>2</th>\n",
              "      <td>-1.385353</td>\n",
              "      <td>0.328414</td>\n",
              "      <td>-1.397064</td>\n",
              "      <td>-1.315444</td>\n",
              "    </tr>\n",
              "    <tr>\n",
              "      <th>3</th>\n",
              "      <td>-1.506521</td>\n",
              "      <td>0.098217</td>\n",
              "      <td>-1.283389</td>\n",
              "      <td>-1.315444</td>\n",
              "    </tr>\n",
              "    <tr>\n",
              "      <th>4</th>\n",
              "      <td>-1.021849</td>\n",
              "      <td>1.249201</td>\n",
              "      <td>-1.340227</td>\n",
              "      <td>-1.315444</td>\n",
              "    </tr>\n",
              "  </tbody>\n",
              "</table>\n",
              "</div>"
            ],
            "text/plain": [
              "   sepal_length  sepal_width  petal_length  petal_width\n",
              "0     -0.900681     1.019004     -1.340227    -1.315444\n",
              "1     -1.143017    -0.131979     -1.340227    -1.315444\n",
              "2     -1.385353     0.328414     -1.397064    -1.315444\n",
              "3     -1.506521     0.098217     -1.283389    -1.315444\n",
              "4     -1.021849     1.249201     -1.340227    -1.315444"
            ]
          },
          "metadata": {
            "tags": []
          },
          "execution_count": 86
        }
      ]
    },
    {
      "cell_type": "markdown",
      "metadata": {
        "id": "n3Kn_mqU41PL"
      },
      "source": [
        "c: Inverse Regularization variable to control overfitting (high value causes overfitting, low value causes underfitting)\n",
        "\n",
        "We are not splitting the data into train and test because we will use StratifiedKFoldCV. \n",
        "\n",
        "KFold CV is a preferred method compared to hold out CV, since the model is tested on all the examples. Hold out CV is preferred when the model takes too long to train and we have a huge test set that truly represents the universe"
      ]
    },
    {
      "cell_type": "code",
      "metadata": {
        "colab": {
          "base_uri": "https://localhost:8080/"
        },
        "id": "pAfK7YMx2Vjh",
        "outputId": "7ee70bdc-0ca7-4b99-e9f5-11611f788066"
      },
      "source": [
        "from sklearn.linear_model import LogisticRegression\n",
        "from sklearn.model_selection import StratifiedKFold\n",
        "from sklearn.model_selection import cross_val_score\n",
        "c=1/10000\n",
        "log_reg = LogisticRegression(max_iter=200,random_state=11,C=c) # LogisticRegression model\n",
        "cv = StratifiedKFold(n_splits=5,random_state=11,shuffle=True) # Creating a StratifiedKFold object with 5 folds\n",
        "cv_scores = cross_val_score(log_reg,X_scaled,y,scoring=\"accuracy\",cv=cv) # Storing the CV scores (accuracy) of each fold\n",
        "log_reg.fit(X_scaled,y) # Fitting the model\n"
      ],
      "execution_count": 87,
      "outputs": [
        {
          "output_type": "execute_result",
          "data": {
            "text/plain": [
              "LogisticRegression(C=0.0001, class_weight=None, dual=False, fit_intercept=True,\n",
              "                   intercept_scaling=1, l1_ratio=None, max_iter=200,\n",
              "                   multi_class='auto', n_jobs=None, penalty='l2',\n",
              "                   random_state=11, solver='lbfgs', tol=0.0001, verbose=0,\n",
              "                   warm_start=False)"
            ]
          },
          "metadata": {
            "tags": []
          },
          "execution_count": 87
        }
      ]
    },
    {
      "cell_type": "code",
      "metadata": {
        "colab": {
          "base_uri": "https://localhost:8080/"
        },
        "id": "PpT0MJGk4bds",
        "outputId": "2b737764-e9db-4f0e-e982-3f522d33b08d"
      },
      "source": [
        "train_score = log_reg.score(X_scaled,y) # Scoring the model on train set\n",
        "train_score"
      ],
      "execution_count": 88,
      "outputs": [
        {
          "output_type": "execute_result",
          "data": {
            "text/plain": [
              "0.8133333333333334"
            ]
          },
          "metadata": {
            "tags": []
          },
          "execution_count": 88
        }
      ]
    },
    {
      "cell_type": "code",
      "metadata": {
        "colab": {
          "base_uri": "https://localhost:8080/"
        },
        "id": "ueYimofs8e58",
        "outputId": "f1adca26-ac67-4dfc-e03b-cd7d7a5eeffc"
      },
      "source": [
        "print('Cross Validation Accuracies')\n",
        "cv_scores"
      ],
      "execution_count": 89,
      "outputs": [
        {
          "output_type": "stream",
          "text": [
            "Cross Validation Accuracies\n"
          ],
          "name": "stdout"
        },
        {
          "output_type": "execute_result",
          "data": {
            "text/plain": [
              "array([0.86666667, 0.83333333, 0.8       , 0.8       , 0.8       ])"
            ]
          },
          "metadata": {
            "tags": []
          },
          "execution_count": 89
        }
      ]
    },
    {
      "cell_type": "code",
      "metadata": {
        "colab": {
          "base_uri": "https://localhost:8080/"
        },
        "id": "DUNp8mDr8wWc",
        "outputId": "3ef94858-9967-45f1-f3aa-56aaa8fb9270"
      },
      "source": [
        "print('Mean Cross Validation Accuracy, Standard Deviation of Cross Validation Accuracy')\n",
        "np.mean(cv_scores),np.std(cv_scores)\n",
        "\n"
      ],
      "execution_count": 90,
      "outputs": [
        {
          "output_type": "stream",
          "text": [
            "Mean Cross Validation Accuracy, Standard Deviation of Cross Validation Accuracy\n"
          ],
          "name": "stdout"
        },
        {
          "output_type": "execute_result",
          "data": {
            "text/plain": [
              "(0.82, 0.02666666666666666)"
            ]
          },
          "metadata": {
            "tags": []
          },
          "execution_count": 90
        }
      ]
    },
    {
      "cell_type": "code",
      "metadata": {
        "id": "hrd2mdTh7KVX"
      },
      "source": [
        "#Building the learning curve\n",
        "from sklearn.model_selection import learning_curve\n",
        "train_size,train_scores,test_scores = learning_curve(estimator=log_reg,X=X_scaled,y=y,cv=cv,scoring=\"accuracy\",random_state=11)\n",
        "train_scores = 1-np.mean(train_scores,axis=1)#converting the accuracy score to misclassification rate\n",
        "test_scores = 1-np.mean(test_scores,axis=1)#converting the accuracy score to misclassification rate\n",
        "lc = pd.DataFrame({\"Training_size\":train_size,\"Training_loss\":train_scores,\"Validation_loss\":test_scores}).melt(id_vars=\"Training_size\")\n",
        "    "
      ],
      "execution_count": 91,
      "outputs": []
    },
    {
      "cell_type": "code",
      "metadata": {
        "colab": {
          "base_uri": "https://localhost:8080/",
          "height": 348
        },
        "id": "e5pcokWUAUPO",
        "outputId": "8bb6cb0d-e411-468a-f94c-6e740be2e5da"
      },
      "source": [
        "lc"
      ],
      "execution_count": 92,
      "outputs": [
        {
          "output_type": "execute_result",
          "data": {
            "text/html": [
              "<div>\n",
              "<style scoped>\n",
              "    .dataframe tbody tr th:only-of-type {\n",
              "        vertical-align: middle;\n",
              "    }\n",
              "\n",
              "    .dataframe tbody tr th {\n",
              "        vertical-align: top;\n",
              "    }\n",
              "\n",
              "    .dataframe thead th {\n",
              "        text-align: right;\n",
              "    }\n",
              "</style>\n",
              "<table border=\"1\" class=\"dataframe\">\n",
              "  <thead>\n",
              "    <tr style=\"text-align: right;\">\n",
              "      <th></th>\n",
              "      <th>Training_size</th>\n",
              "      <th>variable</th>\n",
              "      <th>value</th>\n",
              "    </tr>\n",
              "  </thead>\n",
              "  <tbody>\n",
              "    <tr>\n",
              "      <th>0</th>\n",
              "      <td>12</td>\n",
              "      <td>Training_loss</td>\n",
              "      <td>NaN</td>\n",
              "    </tr>\n",
              "    <tr>\n",
              "      <th>1</th>\n",
              "      <td>39</td>\n",
              "      <td>Training_loss</td>\n",
              "      <td>NaN</td>\n",
              "    </tr>\n",
              "    <tr>\n",
              "      <th>2</th>\n",
              "      <td>66</td>\n",
              "      <td>Training_loss</td>\n",
              "      <td>0.393939</td>\n",
              "    </tr>\n",
              "    <tr>\n",
              "      <th>3</th>\n",
              "      <td>93</td>\n",
              "      <td>Training_loss</td>\n",
              "      <td>0.139785</td>\n",
              "    </tr>\n",
              "    <tr>\n",
              "      <th>4</th>\n",
              "      <td>120</td>\n",
              "      <td>Training_loss</td>\n",
              "      <td>0.198333</td>\n",
              "    </tr>\n",
              "    <tr>\n",
              "      <th>5</th>\n",
              "      <td>12</td>\n",
              "      <td>Validation_loss</td>\n",
              "      <td>NaN</td>\n",
              "    </tr>\n",
              "    <tr>\n",
              "      <th>6</th>\n",
              "      <td>39</td>\n",
              "      <td>Validation_loss</td>\n",
              "      <td>NaN</td>\n",
              "    </tr>\n",
              "    <tr>\n",
              "      <th>7</th>\n",
              "      <td>66</td>\n",
              "      <td>Validation_loss</td>\n",
              "      <td>0.666667</td>\n",
              "    </tr>\n",
              "    <tr>\n",
              "      <th>8</th>\n",
              "      <td>93</td>\n",
              "      <td>Validation_loss</td>\n",
              "      <td>0.333333</td>\n",
              "    </tr>\n",
              "    <tr>\n",
              "      <th>9</th>\n",
              "      <td>120</td>\n",
              "      <td>Validation_loss</td>\n",
              "      <td>0.180000</td>\n",
              "    </tr>\n",
              "  </tbody>\n",
              "</table>\n",
              "</div>"
            ],
            "text/plain": [
              "   Training_size         variable     value\n",
              "0             12    Training_loss       NaN\n",
              "1             39    Training_loss       NaN\n",
              "2             66    Training_loss  0.393939\n",
              "3             93    Training_loss  0.139785\n",
              "4            120    Training_loss  0.198333\n",
              "5             12  Validation_loss       NaN\n",
              "6             39  Validation_loss       NaN\n",
              "7             66  Validation_loss  0.666667\n",
              "8             93  Validation_loss  0.333333\n",
              "9            120  Validation_loss  0.180000"
            ]
          },
          "metadata": {
            "tags": []
          },
          "execution_count": 92
        }
      ]
    },
    {
      "cell_type": "code",
      "metadata": {
        "colab": {
          "base_uri": "https://localhost:8080/",
          "height": 296
        },
        "id": "pn_g3U_GAerm",
        "outputId": "0a4e7ff6-3941-4a0b-a66b-5a4b1f017e92"
      },
      "source": [
        "sns.lineplot(data=lc,x=\"Training_size\",y=\"value\",hue=\"variable\")\n",
        "plt.title(\"Learning Curve of Good Fit Model\")\n",
        "plt.ylabel(\"Misclassification Rate/Loss\");"
      ],
      "execution_count": 93,
      "outputs": [
        {
          "output_type": "display_data",
          "data": {
            "image/png": "[encoded data removed]",
            "text/plain": [
              "<Figure size 432x288 with 1 Axes>"
            ]
          },
          "metadata": {
            "tags": [],
            "needs_background": "light"
          }
        }
      ]
    },
    {
      "cell_type": "markdown",
      "metadata": {
        "id": "1AfV1JW4BSUG"
      },
      "source": [
        "Interpreting the training loss\n",
        "\n",
        "Learning curve of a good fit model has a moderately high training loss at the beginning which gradually decreases upon adding training examples and flattens gradually, indicating addition of more training examples doesn’t improve the model performance on training data.\n",
        "\n",
        "Interpreting the validation loss\n",
        "\n",
        "Learning curve of a good fit model has a high validation loss at the beginning which gradually decreases upon adding training examples and flattens gradually, indicating addition of more training examples doesn’t improve the model performance on unseen data.\n",
        "\n",
        "We can also see that upon adding a reasonable number of training examples, both the training and validation loss moved close to each other.\n",
        "\n",
        "get an overfit model by setting the inverse regularization variable/parameter ‘c’ to 10000 (high value of ‘c’ causes overfitting)."
      ]
    },
    {
      "cell_type": "markdown",
      "metadata": {
        "id": "0C29XZnXCCD4"
      },
      "source": [
        "Learning curve of a overfit model is shown below"
      ]
    },
    {
      "cell_type": "markdown",
      "metadata": {
        "id": "4GKTdZU2B7k6"
      },
      "source": [
        "![image.png](data:image/png;base64,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)"
      ]
    },
    {
      "cell_type": "markdown",
      "metadata": {
        "id": "njGIDFmpCUqd"
      },
      "source": [
        "Typical features of the learning curve of an overfit model\n",
        "\n",
        "Training loss and Validation loss are far away from each other.\n",
        "\n",
        "Gradually decreasing validation loss (without flattening) upon adding training examples.\n",
        "\n",
        "Very low training loss that’s very slightly increasing upon adding training examples."
      ]
    },
    {
      "cell_type": "markdown",
      "metadata": {
        "id": "vodTTscbCe3z"
      },
      "source": [
        "**underfit model by setting the inverse regularization variable/parameter ‘c’ to 1/10000 (low value of ‘c’ causes underfitting).**"
      ]
    },
    {
      "cell_type": "markdown",
      "metadata": {
        "id": "DClXC0KxCwRC"
      },
      "source": [
        "## Underfit model\n",
        "\n",
        "![image.png](data:image/png;base64,iVBORw0KGgoAAAANSUhEUgAAAccAAAEpCAYAAADmsulAAAAgAElEQVR4Aey9Z3BVV5b+Pd/mX1PVU1PTE/udnu6ezo7tbJxzbEeccABnYxswGGxjGzDB5JxzzmCCyUkghMiIKBA5CCGChIRQQELA89ZvH198Ja4uSlc3aO2qg+4JOz37sJ+z1l57rX+QJUPAEDAEDAFDwBAogcA/lDizE0PAEDAEDAFDwBCQkaO9BIaAIWAIGAKGQCkEjBxLAWKnhoAhYAgYAoaAkaO9A4aAIWAIGAKGQCkEjBxLAWKnhoAhYAgYAoaAkaO9A4aAIWAIGAKGQCkEjBxLAWKnhoAhYAgYAoaAkaO9A4aAIWAIGAKGQCkEjBxLAWKnhoAhYAgYAoaAkaO9A4aAIWAIGAKGQCkEjBxLAWKnhoAhYAgYAoaAkaO9AzGPwKFDh9SxY0etWrUq5vtamQ7m5eVp3rx5evnll92xf//+yhRT7XkaNGigNWvWqKioqNxlr1y5Ul26dBFjHs50/vx5bdy4Ua+//rouXLhw1aasXbtWbdu21c6dO6/6rD1QMwgYOdYMzrWylubNm2vFihUqKCgIa/9zc3O1ZcsWHT9+PGTt2LVrl5uU33zzTb366qtq3Lixpk+frlOnToWszuoqGCKpW7euunXrpmXLliknJ+eKoi9duqT4+Hh9/fXXrn+vvfaamjRposmTJ4cM1z//+c+aM2eOzp07d0V7ZsyYoXfeeUcvvPCCXnzxRXd0795dmzdv1tatW3X27FkdO3ZMo0aN0oQJE67I73/h008/1fPPP699+/bp4sWLl28NHDjQfSzQhoq+w4WFhVqyZIl+97vfqbi4+HKZZf3g4+Sll15yHwNlPWPXaxYBI8eaxbtW1XbnnXe6iQlyCmXyn9BCWU9ZZUO8kGKzZs00fPhwMXEzKXfq1ElJSUllZSvzOkTEUVMpOTlZf/nLX7R9+/Yyq5w6dapeeeUVtWnTRmPHjtXMmTM1ZswYtW/f3klIZWaswo1g5AgRQtC9e/fWrFmz3LF+/XohBfvS3r179eWXX+q7777zXQr49/rrr9f//M//aMSIEY5UeejEiRN644039Itf/EL9+vVTRd9hI8eAUEfVRSPHqBqu6GpsWeTIxM8Xfo8ePdSoUSM3eSUmJl5WnzFZf//99/r444+ddMKk5ZPAsrOzNWzYMI0cOVJdu3bV+++/7yQFJkEmyXbt2rl8SEGpqamOZI4ePaq+ffuKyZPEcwMGDNCQIUPUtGlTJw0tXbr0svqLusaNG+fa9u233zrpBenC1wb/UaAvn3zyiVOfIVkhsUDWtBOyOXnypGsfhLJp0yaXFSnkxx9/1ODBg92zSCxM8jxDfUhkP/zwg5NE/euijfQDyQ5pZMGCBWrVqpVrJ/lLSz6+vLTxwIEDrj7KRvrzSWTkQfKCBOrVq6fWrVv7sl3+Sx8efvhhd4+xof308cyZM5f7yMNcj4uLc31AcoZUUlJSXDm0gXGgz9zzjZdPqqK8+fPn67PPPnP3Fy5cqF//+teX23m5MT/9gBzRTCAl+ifUk4ztjh07NH78eN1www26+eab1bBhQ/Xq1cv/0cu/IUeIELKljSTeEd6N//3f/71Mjqh3ExISnPqT97Znz56ufvrGwfuGtMm7wkcE/fdJjtyHYHmXGQMwQKL1SekmOV4ejoj5YeQYMUMRew0pixy3bdvmJlAmYogOQvjmm28uq5QgEcgNKYz1I9Rnffr0cQChGmUd56677lL//v0dSR48eFDXXHONm+S5xgT197//XaNHj9bp06fdBA4BTJs2zZWBtHPPPfc4koAgmZCZ7Jj4mawgJtbfmPwGDRqkDz74QP/xH//hCKb0KEEc1157rWuHb6Ir/QyTPhMm0haJ51gDRdpkPYp1tQceeMDVCXlAkpAXk7Y/Ib/99tvuQwJSYjKFlPnAAEPKZ/I/fPhw6eqVlpbm8KMfEAd1QxazZ892EhJ4/PKXvxSEg9RbOi1evFh//etftXr16qAqQtSITPyMJ/VALpAE6k3GjWv169d3mFIXhAQ2YADJPfbYY65tjDsE/q//+q8VJkfUvEi469at06JFi/Tkk0/queeec1Iu54ESOPMe8E5ArpAg78PQoUPde+aTHCHGzz//XC1btnR94DcfJ0iovAeMA+8mz/O+ovL1kSOSJB8wjAHPMc58jEDCkKaRY6CRCe81I8fw4h/TtZdFjkzoTCyQApMGEhaTO9f5ws7KynJf4Rg1oN6CpB5//HH3LJMskyqTHr95nsn1uuuuc2Xw5c8aVYsWLVwdGJdQfmlyfPrpp93Em5+fr7lz5+q9994TqsM9e/boq6++cvmR/jIzM139ZZEjZSNdYOzjk4JKD2p5yPGRRx5x0hTEhxR15MgRPfTQQ46oKQ+SRPXpk7AhAD4g6C+TOUSHAQvSZenEtY8++shNyqgdkSL5MIGoqIs+/OY3vynTiIWJnI8RpExfQrKGwMB5+fLlbswgRcYRaZF6+BgBV9oGWSGZQQxImLSbDyIIgncAwn722WcdkdMfPlD++7//Oyg5ghkfTowXxiysl/rIkQ+wiqhVqQ+M+LDasGGDaxflPfXUU47s0AjwEcFHBYY2vveGPHzMcO3DDz907wp95yOFDwXIkfeYDwQ+4JD2eT/BAO0I5YGFkaPvzYqcv0aOkTMWMdeSssiRCfPRRx91ajEmNSZZvtpRkzHpQAyTJk1ya3ZM4kygt9xyiyMICJEJka93/wQ5MmGTn8Qkx8SFNBiIHJnEMaIhMXEj5SA9oHp99913LxtxQHhMlmWRI+o7yBEryaqQIwYx9NmXkC5Zs+RDgA8AJm8wQkJh8mWi5R6SCxgi6dx4442O4H1l+P6CC+pn+kmCjKZMmeLKY9K/GjkiQd1xxx2ObHxlItkiCTEuSIF8VEAOkJzPOpO1WMiT+0htqGbBiwQ5oFpmXZExwxiF/kKMJD5K/vCHPwQlR7QDlE87kPDpX1XIkY8YJD/eLd5JSP6ZZ55x5MjHCVIf65e+9cfdu3c7YuYa0jWGWBigkRgjMIYcwZt36B//8R/dBwHPM2bUVadOHYerkaODLaL+MXKMqOGIrcYEI0ckNySNzp07u4NJlXUmvqJZl4EA+VLn6xoJ56abbnLSJOQIefG8f4IcIRAmXRITOiTMZByIHDGe8W1ZgBA5R+1XUXJEbcu6FtIVkmagBDFAxrSPxMSPutFfrcrECln4EtIGkz3SIlIHkiLkAZH4yJH+gY8/hvS1dGLtDXJEZUhisoZEIFsm+quRI5IhJMaaKu3yJUiQdiPBQo58jAQiRzQCkAeSnq99PnKkf/QJNTZ5K0KOgdYcq0KOfHigguVdoxw0GD5yzMjIcOQPsfFBQQpEjmBFYowow58c/9//+38lxovxRAVL2UaODraI+sfIMaKGI7YaAzkitUAaSFUcqPGYLL/44ovL6zs+9SmTBJIea4AcEA/rZR06dLiCHJlY/FN1kSOqONR0TLy0mzYh+ZQlOdIGjEuQ/CB38kAaECBkBNlDckhVkC+TJlIEZFCaHJHG/BNl3H///U5VxySL5SsYIklCSqibMQKhPsgGEvVJNf7loB6EuJCMuY96FImTNczyqFVpBx8zSNeoD+kD+SATVKGQI78pk3VQJHLqQU3Nhwykz0cHalU+IiBD2o2EhvQLWUPw1MF4Q5CoZP/rv/4rqOR4NXJEfcwHGM+BWVmJNUffhxUfZkjh9IH30keOECLvITgyfvSBfjGuvOPgwj3eFfrO9hjK8VerUg8fSowV7UGFTn+px8ixrNEJ33Ujx/BhH/M1Q45vvfWWk3iYyDmYBJBAkApRmUIYqEB9ajHIhMnWZ9iAdSaTeGnJMVTkyCSI4QySGsZA1M8E+J//+Z8BjV0YRCZSJkLWmMhDX1D18Zu1L9ZNsaKlH1yn7awnXo0cmYCxyEVqQ/3mT3ysXbFuy33qA0fWvgJtfoc0kVCQHjHaQaWHJTBrraSrSY48g8oRad6nJoXkKIt1Tox4WEeDhCFQPi64xwcO/aZ+JH7y1K9f3xmrgAHvBmThI2jWkXme9wFSq4pBDrjzYYNxD9Iga528e4GSPzkiLfIOQth8dPjIEexZ76X/fNgxjvQVSZKPDdSuECtLAHz8caAqhhz5oKE8jMV4T/jLmPGX9VhU6EaOgUYmvNeMHMOLf0zXjjTA1zRrNb6DSYqvZSZkJnS+6jn4jdTIhITlIio2JlcmWSZfyBRJkq9t9tdBDv6JSQrJyqf2Yw0QsqAuDiYj31YKSAGpxmcJCqFw7lOJMalOnDjRtQv1J5M6xiHUX1ZigkSVS19oN1IGqkRfHrauQGTc5zkmUg6IAfUu10pvSwALMIGcMfv39Y02MOFCRuDEJI0UhhoPEiqdkFKw6IUomNzpE2Tn21wPPhAa/S4rUQYSMJM+/aNO+sikDo7cRyJizQ2Co59g7r+Vg3poA/eQMpG86AcJHJC8kcJpI5avPAcm/v32tQ9skS4hMv+EVAeWXAc/VJ+0kw8JSDdQ4mPB/93xPUObIDC2p0BuSLQQJMRO2/hw4j2m7xzUSd3UxTNYorJ2STncR+JmHMGaDyneWfDiI4hykOyRdi1FBgJGjpExDtaKCEIA0kDaY3Jl4kfquvXWW90kF0HNtKYYAoZACBEwcgwhuFZ0dCKAJIkki/s3pEbfnsfo7I212hAwBCqDgJFjZVCzPDGNACpSVGOsGbFGhvqsLEvUmAbCOmcI1GIEjBxr8eBb1w0BQ8AQMAQCI2DkGBiXcl1lPYqFfBbT7TAM7B2wd8DegdC8Axhm+Yy7yjU5V8NDRo5VAJH9TWwxwHzbDsPA3gF7B+wdCM07wDYf9tTWZDJyrALabBzGHNuSIWAIGAKGQOgQYIsO+2xrMhk5VgFtI8cqgGdZDQFDwBAoJwJGjuUEKlIeM3KMlJGwdhgChkAsI2DkGGWja+QYZQNmzY15BPBEg0caO6IXA8awdDJyLI1IhJ8bOUb4AFnzahUCECL7UXHHh2WjHdGHAY7/2QWAdyr/ZOToj0YU/DZyjIJBsibWGgRw4I1/U/4ifdgRfRjgfxZH9USC8U9Gjv5oRMFvI8coGCRrYq1BgIgaTKyB1HK1BoQo7yhjBzGWdqBv5BhlA2vkGGUDZs2NaQQgx/T09JjuY23oHJFsSo+jkWOUjXyVyDEvU0qeJeWXHQYpyuCw5hoCYUXAyDGs8Fdb5UaO1QZl+AqqEjluHicNuE2a/amUuV+6dDF8HbGaDYEYQCAWyZEYncS9JJ5kWQmpikDapRPxJ4knSZxMX9zM0s9E4rmRYySOSgXbVCVyzD0lxX0v9blBmvCSdGStdKGogi2wxw0BQ8CHQCyRo8+YCMtNyAJL3LJSfHy8HnzwwStuE5cU0iSQd6CA0VdkiJALRo4RMhBVaUaVyJGKc09Im0ZLg+6WRjwqJc+WCs9WpUmW1xCotQhEGjkyyQ8dOlTz5s1zY8L2hJEjR2r06NFq1qyZc4f25ptvatasWTp79qwjwXbt2qlFixZq2LChu064NKRHiG7FihVq3LixC6OGRIjESIIc//rXv6pTp05666231KpVK505c8bl8SdHQrG1bNlS7777ritny5YtEUmaRo4x8F+4yuQIBgXZUspcadRT0uB7pbWDpbMnYgAd64IhULMIRBo55ubmatq0afrggw8cEEhvSHirVq1SYmKi1q1bp6VLlzpC27Vrl7PQfOKJJ/TVV18pLi5OaWlp+vbbb9WzZ0/l5+e7bSpr1qwRx8CBA51fZ64vX75cf/jDHzRmzBgtWbLEkeugQYNKkCPk2qRJE6eiXbt2rYYNG+bI9ODBgzU7SOWozcixHCBF+iPVQo508ny+dGiVNLW+NPhuaUkbKWOPFMBTRKRjYu0zBMKFQKSRI6pQHBFAiGxP2LNnj26//XZlZGQ4cmratKk++ugj/fa3v3VkyB7NF154QVOmTBHrhaQ2bdpcJkfCYXXt2lWffvqpnn76aReM+9ChQ44cb7nlFkeuBQUFmjt3rp5//vkS5IhjhOuuu84RcaNGjfTKK6+4KBeEgoq0ZOQYaSNSifZUGzlS94XzUvpWaX4Laci90qyGP61Dnq9EyyyLIVD7EIg0cmQEWDNERTp9+nQn7aEyRbp7//33xfyxePFi3XbbbZo/f74OHz4s1Kxc8yUfOXJv8ODBTmW6YMECde7cWQ0aNFBycrIjxzp16jivMkin69evd4Tsv+YICd51111ORUv91IGaFo9CkZaMHCNtRCrRnmolR+pHUszcJyV0l4Y/LE16VUqZLxXlVaJ1lsUQqF0IRCI5ovaEGF977TU9/vjjTiU6ZMgQR5hIk0h0xITFIhUpEMKDvHzJR46QG+uRAwYMEOraESNGOCkTaRIV7PXXX69t27Y570DDhw935OtPjmyqv/fee506F6mU9c+TJ08GtYL1taGm/xo51jTiIaiv2snR18acY56hzpi/S6OflpLGSnmnfHftryFgCARAIBLJEdUqhjAQIJIbxMZaI2pN1hM7duzo1J2oQoORIypXJEdiGkKSSJ6vv/66IEckwN///vduDZEyP/zwQ0eY/uTIVhDWKVnPbNu2rVuvnDhxopNsA0AZ1ktGjmGFv3oqDxk50jwMdXb9KE2qJw1/REroKZ0+UD0Nt1IMgRhEIBLJEZhZBxw/frxmzpzpXNtBWvzmGipSSApixCcs6s4jR45cHh2MZ5KSktwa5O7du922DNYksXBFYmT9EuIcNWqUM+6ZMGGCU9FSB9Ih5bHWCUkjqc6ZM8fVN27cOFE2ZB1pycgx0kakEu0JKTnSnvMFnqHOrI+lYQ9JC1tKxzabw4BKjJVliX0EIpUcYx/56u2hkWP14hmW0kJOjvTq4gUpfZu0uLW3DjnjfWn/Cqm4bI8ZYQHDKjUEwoyAkWOYB6CaqjdyrCYgw1lMjZAjHcRQJ+uQlNhXGvmENL6ulDxTOncmnN23ug2BiELAyDGihqPSjTFyrDR0kZOxxsjR12WMcrZMlMY+J414TNowUjprUQh88Njf2o2AkWNsjL+RYwyMY42TI5gV5Up7F0uT3/D2Q8Z3lTL2msOAGHifrAtVQ8DIsWr4RUpuI8dIGYkqtCMs5Eh7cVCetkma9Yk0qI40r7mUttlbn6xCfyyrIRDNCBg5RvPo/dx2I8efsYjaX2EjRxAjxBVbO5Z+57mcm1xPOpjgWbhGLaLWcEOg8ggYOVYeu0jKaeQYSaNRybaElRx9bc7LkNYPlYbc5+2H3DXHDHV82NjfWoVAJJCjbz8hzsUTEhK0bNkytx/R52yc+8FSXl6ecAZOVI1gCbd07F+szgR+e/fudfshq7PcipZl5FhRxCLw+YggR3DBvVzKPM9Ip98t0sbRXjisCMTMmmQIhAqBSCBHggoTCgoPNm+88YZuvvlm3X333e4cH6u4biNWY1mJDf3EX2TDf7CE/1RcyFVngsDxnkOUj3AmI8dwol9NdUcMOdIfHJenJXmBk3v8RVreUco+Yg4DqmmsrZjIR8CfHAvOX9CR0/naeyK3Wo9DmXk6e658wQDwXYqrt/79+zsfqgcOHNCOHTvcb7zhELED929cwwE4UiW+WHEyzn36g+cciJLnkOq4TsLbDW7pIGOkSEJe8Rz+VclDgoQpA7+s5EciRdr0RfxwD/n940+OlIs/VtrGAWlzjbzHjh1z9VAmvmGph3iUPEf9HPQj2EeAX7VX/DRyvAKS6LsQUeQIfKxDnkmV8KjT/Q/SD+9Lp3Z7xBl98FqLDYEKIeBPjrvSc9Ri2la9MmRNtR6NJ23Wyr3l83PsI0dfBA2CDOMPlbBTGzdu1Mcff6xXX31VL774oouWAUFCLARCRnrDGfknn3zighvXrVvX/cUHK6QzadIkJ5lCkkiQDz30kHNm/txzzznfqqhnITKcnD/11FOuHiRX7vu7p/MH2J8cIWjiSFIvx3fffefIGYLnN+XgH5agy7iqI6oI9bz88suuPxD51VTI/nX7/zZy9EcjSn9HHDn6cCzMlVZ08QhyxCNS6jovZqTKVuf4stpfQyBaEfAnx/2nctV1YYo+m7y5Wo8Oc3dq46HT5YKoNDkSjgrpi8SaItIYJDR79mwXjcMndfmT41tvveWIEB+oXbp0cY7DCUvlT45Ipo8++qjzs0p5zz77rFvvRPLDITkSI0RFuCzulYccR44c6erySYfff/+9c2weHx/v2rpz507XByRZCBqH5hAxYwAxQ5gmOZbrNYnNhyKWHIH7YrG0fbrU61qpzw3emiQedYKsd8TmKFmvagsC/uQYCX32J8f33ntPOAX3EQYq1Q8++ECPPfaYi71IIGKidZSWHNu3b+8chNOfYcOGOUmNfvqT4+jRo9WkSRPX5RMnTuizzz5z9ynvgQceEGRKWrRokQudVR5y7NChgyBEnJdDrDgqp72QInX5+oNaFZUqfXv44YfVvXt3rV692jlb9/XVVV6Bf0xyrABYVX2UQSJkCy8VB17yAyXUEHzR8QxfRL6vvEDPci2iydHXaNYhB98jdfmttG6oF/oK9aslQyDGEOD/bXp65HiM8idHDHRmzJhxmRxRl6K2RJXKGqEv1mNpcuzUqZM2bNjgRgr1KWpMJDV/chw7dqyaN2/unoEckTyJ+IHq9r777rscs5GIHKhxy0OO1AtBMidCrhAwalnmUtqMFe7nn3/uCJH28Byq1EGDBunaa6/VvHnzLpNyRV8zI8eKIlaF5yE6QrrccMMNuuWWW5x6orQ+nHP0+ejNb731Vr300ksuVEywaqOCHOkA8SEn1JU6/re04Esz1Ak2qHYvahGIJnJE8kJ1CYESZ5E5Z82aNVdIjpUlR8gTkvnjH//ojHFQdbLGiVo1NTU14Bj7rzkSRqtly5ZOCsT6FsOivn37OikRNS0GN5s3b74ccBkJkjqYayHnfv36OdVqwIquctHI8SoAVddtvnRQBRAFG308ll233XabkpOTL3/FURcDzotDjDMkRr6OkDaDpaghRzpxPl+a10Lq/Gtp/EvS8R3mUSfY4Nq9qEMg0siRuQa1KGuFBCD2xXMEWKQ6gh8TBBk16O233+7mHtb4kMgIYIykhzGPT3KETAlmjKQ2efJksR7Jb1SeX3zxhRsvyBYpkpiPzGMY9Vx//fWOfDEIYt0zLS0t4NhCjrQXYyDmvwEDBrg23nnnnW6LB3WxheTJJ590ggZbVOgbuGOkQz1sXeE+652mVg0Ic+RcZCHbt+DNYKFSRZfOoPqrTbt16+ZMrnm5ypuiihzp1IViaf0wqedfPLdz+5Za6KvyDrY9F/EIRBo5Mt+wZsfBXOOvreIe6koO7vOXa748PMvBPa6RfOe+3775y/+6f35+sx5I2ag9v/zySzfvQXKBkn9e7vva5Wsj13iGernmf93/We7zXGWTSY6VRa6C+fgPg74cayoS0iAq1saNG7vB9RWHygF1wPPPP+/06Cx+8+VXOqFK4Ln777/ffSXxlRdVCb+sOC4ffK/U+zpp02ipICuqumCNNQQCIRBp5BiojTV5DfLCkhWtGZIp642oPyGySE5GjjU0OgANGbKQTYIcx4wZo0aNGpUgRxbM2W+E2gA17GuvvebWIHnB/BPnPvNlymndurX/7ej4DUEe2yxNeNmTIpe1l7IDr0NER4eslYaAnHovkgxyImFMWAdEUszIyHCqUoiRPYkQJXsjfQdq36SkpEhoslsrLT2OqJbfeeedGm3fP9RobWGoDLUCVmIsgJNQq7IJF0ssn1qC65Bnjx49hLUXLxASIVZgfI2WlaJOrerfEbZ64Lh8zmdS7+ulmR9Jx7baVg9/jOx3VCFgkmP5hgtjGtYEWXv0HSwnXc3GonylV/0pkxyrjmG5SoDosLbiC4mvEb6i+I3hDbp6X1qwYIHbJIvRDoSKX0R8HJa17YN8UU2OdIAtHTnpUnw3aeCd0rjnpT2LvZBYPmDsryEQJQgYOUbJQF2lmUaOVwGoOm9DiOwpYpsGa4qYKEN6rCtimcViNYSIoU69evWcehWrMHwVBltYjnpyBGQWzonssXmC57h86INS0jip0PPhWJ3jYGUZAqFEwMgxlOjWXNlGjjWHtVOTojZAp45Bjc+Umf0+EKdPguQ6m3B5BtdOkGawFBPk6Osg3nP2LJImvepJkSu7STmBTb59WeyvIRBJCBg5RtJoVL4tRo6Vxy5icsYUOYIqeyFT10uzP5UG3iHNb+Hth4wYxK0hhkDZCBg5lo1NNN0xcoym0SqjrTFHjvQTS9aTu6Sl30lD7pWmvyPtX2EOA8p4B+xy5CAQCeSICzWWcPCd6ks44Z41a5ZzzB1omQbPMz5/pHimQXPlbyxIOTgHwAYCzVZZCUMbnAsQUopEGb7yqmv7BtvbcE6Ac4FQJSPHUCFbg+XGJDmCH4Y6WYelNQOkkY9LY5+Ttk2Tzgf2SVuDkFtVhkCZCEQCORJjsVWrVo4IfQ2lXdgy4NItEDniuYa5BLsHPHdhMe9b6vGVgW1Ex44dFRcX57t0xV8MDrGbWLlypbtHGb7yAtV7RQHluIBfVsi8d+/e5Xi6co8YOVYQNxyC82XEgGOGjB9CAneW3odYwWKr9HjMkqND5ZKUe1LaNsXbDznsIWntIM94p0qoWWZDIDQIlCDHM0elpLFSQs/qPTaM9DQrZXQBgsN1G3EbkdY4MOzDtRpbyHCzxraxadOmXbaE9yfH4cOHu73WzGsEKYaE2EuNezgMCSFHSJA62rRp49y9sVWNepcsWeLcxLFHGyJFgvSVRzuYL/EMhrEh/lyxsYA0cWiOcSJ1QexY7uNZLFDyJ0ckUyRl/L+Sj/wQG2nTpk3O5Rx1QdhInBxDhw51/eE6JB5oN4CRYyDkg1xjIz/qBkgSgPEfyKCgjghXim1y/AnVcznS3iXSD+9Jg++WcBiQeSBckFu9hkCZCJQgR3wHz/pEGvVU9R7T35P2ly298fGOIxECF+zateWqzucAACAASURBVMs548b3KYGBFy5c6CRE/KI2aNDASXUQjD85vv322059CnFBZBAg4aDwv0oeyBGSIa4i88/gwYMd4SYmJrqQV0T3gHxxmclzvvIgIRyfoPJFgsVDGOVCRNSPEwA8iUGqOBlHPRso+ZMjJM3zbdu2depb6u3Vq5fLRngrCBgSp7/4avXNl5Ax13fs2BHQObmRYyDkg1wjhtjixYvdoDF4BNbk64Mvo3Al32CHq/4aq7f4nHR0o2egM+guOccBR70wOjXWBqvIELgKAiXIMT9T2r9c2jm7eo+9S6Uzwb1JsVcaaQ/H3VjJ169f3xESYZ5wNIIEeeONNzoSRBsWiByRqiAbpDikSEJQffrpp44c6SdlIanhL/Xll1928yHExTN4wCGx1ukjRwIr4PIS719IkZAT0ihSLfXjWxp1LmuaSIHMbYGSPzlCbjgZpwzaiDaP6CJIo3wcILxA4j7HKpAx7eNjAYkT7z2l1cfUaeQYCPkg15o2berEf0R0/AUySH369HFfJ0GyhfRWrSFHUMSjTsZeaXlHaej90pQ3pd0LpQsl3euFFHAr3BAIgkAJcgzyXKhvoZLEAAd3lKgXib6B1gvHIhAmH/QEBkbqwxVlIHJE8mOuI2AxCakTwkVyRErEVzTzH8GF8f4FEQUjR+p/+umnL8e7RLolpiRkSP0QF9IlsSWph/NAyZ8cKZPIHEi/ECIu6n71q1+536h4kVJpH8IMHwysx9J3riFt8gzq4NLJyLE0Ilc5x1ILNUOLFi1cRGvEdHybTp8+/So5Q3e7VpEjMOIw4Gy6FzR51JPSyCekLZOkwsDrE6FD3ko2BK5EIFLIEaKAdB588EEn/SE5QpLEk0Va4kDigijLIkcIkDVGX9BgXFkSHAFyhLiQCLG9wOAGFSnuMNm3jfoVYib5S46QE4GPfZIjVqwQLOuQkCOqVtzH+aReJNVAyZ8cqRvCpUwkR0Je3XHHHY4cGQtUw0jA1ItBEeQJ8fnCckHoBw5cuURj5BgI+SDXIMOEhAQ3ALwU6LvRi6MuCFeqdeToAxqHATtmSBNekgbW8axazx733bW/hkBYEIgUcqTzGMOwFHTdddc5385ITawHYvjCmludOnWcBqwscmR+Q/L65ptvnLQFAeJ4G3JkeYk1PTRoqEOxhIUcIR/W/CBI1vlQZ/rUqkiFCBYIGNTP+iMCB5hVlhwpHzWxb3kLFe+gQYPc2CO4YCfCgXESjsNRsUK6rG1iMwIWEGjpZORYGpGrnKPP5quGrxu+QngxkBr5kglXqrXkCOCsQx5KlKa/K/X9m2eok7EnXENh9RoCERWVAzKCDFi/wzAGb1ustaFiZCsExMDHPtIdkiD+n/kNeeDJC1Ulkhm2FRAapINVKpIewgHWrgQmRvpk/RC1K3VQDupY1iN5zlce64yEq+rXr58zooG0IGCkXOpHsqVOiAlp1RdgufRrBZkSiJk5mOeR/FDvEpSZtnKfRPlcoy1IpRhSoiKm70iM5GHNkjJKJyPH0ohc5dynTmWA+VJp2LCh+/rhJQlXqtXkCOisQ57aLc1tJvW5QfqxkYShDtctGQI1jEAkSY413PWYqs7IsYLDiRqALxpUAagb0Fvz9cGXU7hSrSdHgMdhAPsh4zpK/W6Rxtf1tn4U5XEzXENj9dZCBIwcq2/QISikR6xlfQcqXdTDoU5GjhVEGBEdfTpxFlEVYCLtU09UsKhqe9zI0Q/K8+ekjaM8l3O4nds2VcKcHvK0ZAjUAAJGjtUHMho61KTNmjW7fODAgPXOUCcjxwoijP7dp8PmNwvZ+PhDrx+uZORYCnmIcN9SafTTUp8bpbWDpewjpmYtBZOdhgYBjPYwhAm0jhWaGq3U6kaAtVHWaDH28U9IsRgk1WT6h5qsrCp1YSrMHhxAwsyZRWsWnMP5H8HIsYwRPbnT2wfZ86/S0rbSiZ0WQLkMqOxy9SHAFgmMTAhDx2822NsRPRgwZkj/zOt86PgnI0d/NEr9xrIJSy+CFT/22GPOHRPrjRBmuJKRYxDkWYfEUKfXNdLMj6Qja72QWEGy2C1DoCoI4G2FTeXEYmVesCP6MGCvJsRY2nOOkWOQ/xm4UsKzAts5EL3ZZIv7I0yGw5WMHK+CPFE8VnaX+t8ijfm7tHuBxB5JnAlYMgQMAUOgnAgYOQYBio2trDGiXiWxJ4gNqLhgClcyciwH8hDh9unS0Pu8AMqbx0t5p6RLF8qR2R4xBAwBQ0BuOc3WHMt4E9g4yqZXNpKiNsEvH5IjG2DDlYwcK4A8atWxz3tqVqTJ7MNmqFMB+OxRQ6A2I2CSY5DRxzUS1qq4XfrTn/6kRx991KlUWXwPVzJyrCDyWYekGR9K3f4gzW0qnUg2gqwghPa4IVAbETByrOCoz507121QrWC2anvcyLESUBIfcmk7qcefPYcBBxOkC+ZRpxJIWhZDoNYgYORYwaHG5yDrjuFKRo6VRB4y3Dha6n+r57h8+zSpuLCShVk2Q8AQiHUEjBwrOMKoWY0cKwhapDx+8YK0b5kXpb3nNdKq3lKB57Q4Uppo7TAEDIHIQMDIMcA4sG+JjaGBjjZt2rjtHQGy1cglkxyrCDMOytO3ST+8J3X/ozS/hXQ6fPtWq9gby24IGAIhQsDIMQCwxBq79dZbAx7XXHON87caIFuNXDJyrAaYIUgMdZa0lnpd63nWSV1fDQVbEYaAIRArCBg5BhhJgmGy8Z+4jYEO4oSFKxk5VhPy7HnEo87agdKgOtKoJ6TkWRKqV0uGgCFQ6xEwcgzwChC78cMPP3Sb/bdu3ep8JQZ4LCyXjByrEXacBRRkSztmeN50IMk1AyUX+qoa67GiDAFDIOoQMHIMMGRIjWz8J1r1N998I9SsuJIjKjZ++HAlF65k5BgC5ItypYPx0vR3pb43SYtbSTnpIajIijQEDIFoQcDIsYyRKioqcp72CbS5ZcsWLVq0SIMGDVLz5s316aefuiDIZWQN6WUjxxDBW3xOSt8iLfxa6vs3z3H58R0hqsyKNQQMgUhHwMjxKiNEeCpfrC+kRpyPJyQkaO/evVfJGZrbRo6hwdWVeuG8lLlfSugpDbhDmvCStHeJOS0PIeRWtCEQqQgYOQYZmT179gj/qm+99ZaWLVvmJMmZM2e631eL6VhQUKAVK1aoYcOGTtKcNWvWFTWtXr1ajRo10ieffKImTZpo4sSJOnny5BXP+V8wcvRHIwS/MdQ5my5tGiONeNQ7ksZKxUUhqMyKNAQMgUhFwMgxyMj07NlTffv21euvv65p06YJwuvVq5eGDh0aJJd3i7huDRo00NixYzV16lS9+OKLznn5Jb/QSRDdG2+8oXHjxjm1LfEjCb4ZLBk5BkOnuu79ZKiza4406TUvskd8V894p7qqsHIMAUMgohEwcgwyPM2aNXOkhVEOpETq06ePCHgcLBHaavny5apbt65yc3OVk5Ojjz76yBn4+BvzUGaLFi3ctpFg5fnfM3L0RyPEv8/nS4dWSbM/lfr8TVrwpbc/MsTVWvGGgCEQfgSMHIOMwffff++kOoiNAMeoQbFanTRpUpBcEvsgUZESD5IEWQ4cOFBfffWV/NWxEN3TTz/tCBLCTUlJuRw70r8CrGepE9d1b7/9tivH/779DiECF4q8SB5L2kh9bpR+eF86utHWIUMIuRVtCEQCAkaOQUYBcIYNG+YkQFSkLVu21JAhQ4QFa7B0+vRpR6YQKamwsFBjxoxx64u+wMlcx7gH0uVehw4dBBkHMvQ5ceKE4uLiHOFiLesrN1gb7F41IsA65JmjUmIfz3H5+BellLkSxGnJEDAEYhIBI8cgw7p//34lJiZq+vTpjsR+/PFHt//x+PHjQXJ5kuPkyZMdGfIgkmO/fv3cnkl/yZHrnLMOifHPSy+9pKVLlwYt29SqQeEJ3U3Wis+dkZLGScMfloY/JG0c6a1D+q0jh64BVrIhYAjUJAJGjkHQRmpkj6N/Kk88RyRFtns8++yzTsWKmrV+/fpu3dJ/zRHjm4sXL7riUZ1CjkuWLPGv7orfRo5XQFKzF5AWdy+QJr4i9b9Niu8mZaea27maHQWrzRAIOQJGjgEgPnbsmFtfxMK0W7duTqWJWnPx4sXCSGfw4MEBcpW8xJ7Ijz/+2IW36t+/v7NKReJk3RLVKRIjRjtYqqJW7dixo7777ju37liypJJnRo4l8QjP2SVv3XHWx57DgEVfS8e3m5o1PINhtRoCIUHAyDEArEiLqEHvvPNOtx2jffv24mjXrp074uPjA+QqeQmVKS7o2rZt69YTfRLhggULhL9W1h5RoXbv3t0RI9tGqBepM1gycgyGTg3fI9TV4m+lfjdLMxtKB+LNL2sND4FVZwiECgEjxwDIshF/06ZNjrjYo8i6I8f69eudb1V/o5oA2UN6ycgxpPBWvPD8LCmhlzToLmniq1LyTKngtKRLFS/LchgChkDEIGDkGGQoWBPcvn27WwdkrXHOnDnu2L17d5Bcob1l5BhafCtVenGhtHm8NOpJaeRj0oYRUs4xCStXS4aAIRCVCBg5Bhk2jGpYC3z00Uf15JNP6u9//7vuu+8+jRw5Mkiu0N4ycgwtvpUuHYvVfUulyfW8+JB41MnYY+uQlQbUMhoC4UXAyDEI/uwphAjxj8rflStXur2ISJDhSkaO4UK+nPVimINHnX63eh510jZJ5wvKmdkeMwQMgUhBwMgxyEg0bdrUGc1gRcpmfTbjd+nSxXm7CZItpLeMHEMKb/UUjkp1aVvPYcD0d6T9y6TCnOop20oxBAyBGkHAyDEIzF27dnVbL8aPH682bdo4C1ZcwrH9IlzJyDFcyFew3sJcae1gaci90thnpW3TpPxMcztXQRjtcUMgXAgYOQZBno35xHLEHRweb7744gsNHz68Qo7CgxRfqVtGjpWCLTyZLhZLybOlMX+XBt8jre4v5aSbw4DwjIbVaghUCAEjxwBw4bXm7NmzysjIcH/ZsE+4KpwD4Ahg48aNAXLVzCUjx5rBudpqwVAndb00rYHnuHxxKy+gMoGVLRkChkDEImDkGGBo8GSD6zgkRf4mJycLv6r16tVzUTQCBS4OUExILhk5hgTW0Bd6+oBnoNPzGumH96S0JLNkDT3qVoMhUGkEjBwDQEeMxffee8/Fbvzyyy/11FNPue0cRORAzRrOZOQYTvSrWDcOAxL7Sr1vkEY/Le1dLLFH0pIhYAhEHAJGjgGG5M0333Su37iFivXTTz91Wzn8nYYHyFYjl4wcawTm0FVSfE7aPl0afLc04HZp4yjp/DnzqBM6xK1kQ6BSCBg5BoCNgML4RSWUFEerVq1c2CrfeYAsNXbJyLHGoA5dRaxDHl4jjXtB6v4HiUDK52yrR+gAt5INgYojYOQYALN77rlH//Iv/6J///d/17/927/pn/7pn/TP//zP7jfn7HUMVzJyDBfy1VzvpYvSqd3S3KZSl99I09/1Ql9VczVWnCFgCFQOASPHALhhqZqdnX35yMrKuvyb60TcCFcycgwX8iGoF4LMSZMSekrd/+itQ6ZuCEFFVqQhYAhUFAEjx4oiFubnjRzDPADVXT0EmX9a2jpZ6n+LNLCOtyaJ6tWSIWAIhA0BI8ewQV+5io0cK4dbROeCCPGos3epNOopbz9kfDezZI3oQbPGxToCRo5RNsJGjlE2YBVpLpas7H+c+aGnZv2xsZSXUZES7FlDwBCoJgSMHKsJyJoqxsixppAOUz14ziHUVVwHqfufpImvSCfDFz80TChYtYZA2BEwcgwyBDt27NC3336rZ599Vo8//rgee+wxd4wdOzZIrtDeMnIMLb4RUfrFC9KZNGnDcKn3ddLwR6R9yyx4ckQMjjWitiBg5BhkpAlV1blzZ82bN09xcXGXjwMHDgTJFdpbRo6hxTdiSvcZ6iTPkgbdLQ28U9o4wmJDRswAWUNiHQEjxyAjTDzHuXPn6vz5yHESbeQYZMBi7tYljwwPxEvjX5T63Swtay/lnrTQVzE31tahSEPAyDHIiPTo0UNIjzgdX7t2rdavX++OtLS0ILlCe8vIMbT4RmTpqFmPbZbmNJH63CBhqHMqRSIkliVDwBAICQJGjkFg7d+/vxo0aCACHONCrnXr1i7oMSrWcCUjx3AhHwH1Zu6TlneU+t4kTXlLOrRKwsLVkiFgCFQ7AkaOQSDdtm2bli9ffsVx8ODBILlCe8vIMbT4RnzpZ49L64d6wZPxzbrjB+ncmYhvtjXQEIg2BIwcg4xYXl6eC27ctWtXJzX26dPHqVXNfVwQ0OxW6BEoPOt50Rn9lDTycWntQCkn3dYhQ4+81VCLEDByDDLYrDW2bdtWHTt2FOuP7du3V6dOndz6Y5BsIb1lkmNI4Y2ewtkPiUedaQ2kofdLy9p5jsxtHTJ6xtBaGtEIGDkGGR6CHo8YMUIZGRkurmNqaqojy+HDhwfJFdpbRo6hxTeqSsftXNomaV5zLz7knKZS6nrb7hFVg2iNjVQEjByDjEzz5s3Fhn8icRDL8fjx4056HDZsWJBcob1l5BhafKOy9Mz90opO0pD7pGlvS3sW2jpkVA6kNTqSEDByDDIaU6ZMUbt27dS3b18nQfbs2dORY3x8fJBcob1l5BhafKO29LxT0rqh0ohHpQl1pS0TpbMnorY71nBDINwIGDkGGYGcnBzNmjVL33zzjRo3buyIMSEhQQUFBUFyebdwHLB//37NmDFDM2fOFK7oykrp6enumV27dqmoqKisx9x1I8eg8NTum0X5nvUqDgNGPiEl9pVOH5TwtmPJEDAEKoSAkWMAuA4dOiQsVfft26dNmzZdcRw7dixArpKXTpw44RwIfPjhh45YIdczZ640uS8uLtaoUaN04403asiQIU6FW7KkkmdGjiXxsLNSCOAwAI86M973DHUWt5KOb5cuBP/oKlWKnRoCtR4BI8cArwCS3tGjRzV+/Hi3hYPN//7H1ZwAQHgAi7PyU6dOKSsryzkvJ9/FiyW/4rdv366vvvpKDz/8sKuP9c1gycgxGDp27zICJ5KlhS09v6wzG0qHV0tFeZdv2w9DwBAIjoCRYwB8kpOTnZSHAwB8qy5ZsuTyAXFu3bo1QK6fL6GOnT59uj766CN3kX2RrFfiig7i9KXc3Fx3bf78+Xr77bc1YcKEgJIj5e3cuVNr1qxRly5dXKQQXxn21xAoEwEieyT08hwGEPoqZb5UEPzjq8yy7IYhUMsQMHIMMuCsN+7Zs6fEE6tWrdLq1atLXCt9cvr0aacq/frrr92twsJCjRkzRo0aNSrhxHzBggXOHR1bRJo0aVImOaakpDhyff/99/XUU0/piy++KF1luc4vXrqkouKLYgeApVqCAN5zNk/wwl6NfExKGmuOy2vJ0Fs3q4aAkWMA/JDoWFd85513NHHiRB05csQdrEV26NBBgwcPDpDr50uoUceNGyf2SZIgR7Z/NGvW7LLkiAT5wgsvuK0iGzduVL169ZyDAYx4/KXLn0v1flVFrZp+pkDxu0/pcGa+ii6UVO+WrsfOYwgB1hv3LpHG15UG3SWt6CJlp0qsT1oyBAyBgAgYOQaABVCI43jLLbfolVde0ZdffukOyA3159SpUwPk+vlSfn6+kApff/11Jyli3NOyZUsNGDBAFy54ExLXXn75ZT3yyCMugPKvf/1rXX/99W7dMZDhjq/0qpDjD5uO6qEeK9Rs6hatPZCp7PzzunDRxEgftjH9F3VB+lZp1iee4/IfG3kedfC0Y8kQMASuQMDI8QpIpMOHD2vRokWqX7++I0m2Y3Cw/sh2CyTBYAmHAahjn3zySedqjjXKBx54QHv37hUqV4iRZ/xTMLWq/3NVIcfTeUXquWSPHuoRrwe7r9Dg+P3afypXhaha/Sux37GLABJjXAep93XShJekoxstskfsjrb1rAoIGDkGAY89h0hxWJyyNcN3oHa9WuIZjHLuueceR4wDBw50WXr16uWkytIEizUsxj7BpEYKqAo5+tq8+XCWPhq3Ubd0WKI3R6zT4uTjgjhNivQhFON/C7KkpDGeBIlXnZQF0vn8GO+0dc8QqBgCRo5B8Dpw4IDzkHP33Xfruuuu07XXXqu//OUv6tevX5Bcob1VHeRIC8+dv6BJ64/oyT4JjiS/+zFZO4+dMYOd0A5f5JROHMh9S6Uh90i9rpHWDZFwImA6hMgZI2tJWBEwcgwCP1ahBDx+9913NXTo0MtS27Jly4LkCu2t6iJHXyuPnM5X69k7dOv3S/VY75WauO6wMvOKhGWrpRhHAIMc9kOiXu3yG2leC+ncWSPIGB926175EDByDILTZ599pqVLl4otGdOmTXNPQpZXs1YNUmSVb1U3OdIgiDB+zym9NnSt/tJqgd4ds0HrDmaamrXKoxUlBeCDdcGXUvt/k8Y9J+WaT9YoGTlrZggRMHIMAi5bMZASe/fu7fyrsq2jYcOGzhF5kGwhvRUKcqTBEOSps4UaEr/fGevc2WmZui5MUVrW1f3IhrTDVngNIHDJcw6wfrjU6X+kAbdLx7aYBFkDyFsVkYuAkWOQscFZOBv0cSWHxPjWW2+5zfisRYYrhYoc6Q+aVCxXN6dmq/m0rW4tsu6g1Zq9Jc2tUYarz1ZvTSBwSSrKlfYslnpdK3X/o7RjpmTBk2sCfKsjAhEwcgwyKGzGZ18i/lDZfsE2DKxQfXsVg2QN2a1QkqOv0cUXLykjt1AzN6fp5SFrdHvHpWo+bYt2pJ25YguKL4/9jQUELnnbOpAahz/srUPiMKDQfLLGwuhaHyqGgJFjELzwh0rsRsJPkfCRiv9TtlyEK9UEOdI3zHEKzl9QSnqOeizerQe6r9BTfROc2pVtH5ZiGAGkxdOHpB/ek7r+TprxkZR91EJfxfCQW9euRMDI8UpMLl9p2rSpczju27CPBMk2DkJLhSvVFDn6+sfeR8hwecpJfToxSaxFvjt6gzu3fZE+lGLwLzr2nHRpRWep+5+ksc9LaUmSedSJwcG2LgVCwMgxECo/XcNalY38vuDGRMfArdygQYOC5ArtrZomR19v2Be572SuRice1HP9E/VIr3i1n7tThzNN5ebDKCb/5mVISeOkfjdLwx6Uds210FcxOdDWqdIIGDmWRsTvHP+oH3zwgSBJHI4TFQMLVkALVwoXOdJfLFqz84u0Zn+G2szeoXu7LtdrQ9doyoZUM9gJ1wtRE/Wey5H2LJRGPCINrCOtGyzlnaqJmq0OQyBsCBg5BoEeSZHwVAQ9Hj58uKZMmeJiOeJYPFwpnOTo6/P5CxeF84Afko7qrZHr3Hpk86lbtflIlu8R+xtrCOBR5/AaafLr0sA7pSWtpcwDnolzrPXV+mMISE4IIjJTTaZ/qMnKKlMXvlTxfXr8+HHt3r1bhJSCJLds2eKchxOSKlwpEsiRvrMklVdYrKQjWeq1ZI8e7hmvFwet1sAV+5ylqznYCdcbEsJ6MdQ5vl2a30IaVEea2VA6usnWIUMIuRUdPgRMcgyA/eTJk138RqRFwlSVPhYuXBggV81cihRy9PUWo5wTOee0YHu6Gk1M0r1d4/TJhE1asvOEqVp9IMXSX756Tu+XEnpKQ+6XJr0q7Vnk7ZGMpX5aX2o9AkaOAV4B4jWy+T8uLk6zZ88WZOh/EHoqXCnSyNGHA6rWnek5Gp5wQM/0W6VnBySqy8IU7T5+VtyzFGMInD0uJY2VRj0hjX5aShpv65AxNsS1vTtGjgHegE6dOrm4jWPGjNH27dsDPBG+S5FKjiDC3sjcc8WKSzmpb2Zud6rWD8Zu1NSNqU7Vas7Mw/fehKTmc2ekXXOkia9IIx71pMnTB0NSlRVqCNQ0AkaOARDHf2rbtm318MMPq3nz5ho5cmSJIykpKUCumrkUyeToj8ChzDyNW3vYxYt8pv8qtf0xWWsPZCq/6IL/Y/Y72hHAUOdggjTzI2n4Q9LCrz2/rET8sGQIRDECRo4BBg8VKs7GiePI9o0uXbqUOFatWhUgV81cihZyBA38tK7Zn6nv5+3U030T9PaoDRq56qAOZuSp+IKFxKqZN6YGarl4UUrfJi1u5bmdm/GBdGCF54quBqq3KgyBUCBg5BgAVTzhnDx5UqNHj3bu4w4ePCj/w6xVA4AW5NLJs+c0fdNRNRy/SX/vt0pf/bDdGezgeccoMghw0XYr66CU2Eca+binak2e5UX7iLZ+WHsNAdvKEfgdQG0KAa5YscIFOMYox/9ISUkJnLEGrkaT5OgPB+uN29POqOeSPW7Lx+vD1qr/8n3uGj5cLcUIAnjU2TLRczc3+ilpwwgpJy1GOmfdqE0ImOQYYLRnzJjhwlSx+b9Vq1ZXHFixhitFKzn68Dp77rwW7kjX51O3OCmy8eTNmrUlTceyC5wHHt9z9jeKESjK8zzqTHnDW4eM7yKdSrHwV1E8pLWx6UaOAUY9PT3dReAgjiNOADiSk5OdM4CtW7cqIyMjQK6auRTt5OhD6VBGnoYlHNDrw9c6SbLzghStP3haOee8CCi+5+xvlCKAg/LUDdKPjaWh90uzGkrbpkhpmySkS/MSEaUDW3uabeQYZKy3bdsmiLKoqEjr1q3T2LFjhb9VroUrxQo5gh8GO1iwtpq9Q0/3W6V3Rm/QpPVHnMGO7Y0M1xtWjfVCgBn7vMgerEMOvlua9JqU0EPau0TK2CMVhc8VYzX21IqKQQSMHIMM6hdffOE2/x8+fFjffPON3nzzTX300UduHTJItpDeiiVy9AFFYOVpG1OdNStWreyRTNh7Spm5FjfSh1FU/y3MlVLXSSt7eOQ45F5pyH3SrI+9iB+p66UzaaZ2jepBjr3GGzkGGdPGjRtr/vz5LrgxgY9Rqfbp00cDBgwIkiu0t2KRHEHs4sVLLrBy14UpbttH3UGrNWzlAe09cdbc0IX2laq50i9dlPIypd3zpQVfSSMe80JhIVXiyHz3IunkazQ6vgAAIABJREFUTin/tAVWrrlRsZrKQMDIsQxguIwjgIEDBwoJkm0dbO/o27evhg4dGiRXaG/FKjn6UMOZ+bJdJ/TxhE16pGe8Phq/SUt3ndDJnEIz2PGBFAt/cWKefUTaNFqa2kAadJfU+3ppwsvSmgHSkbVS1mEvdqStT8bCiEddH4wcgwwZUTi+/vprffnlly4ix5kzZ4Tf1cWLFwfJFdpbsU6OPvTSswucwQ77Ih/tFe/8tKYcP6u8omLfI/Y3VhC4UCylb5Xiu3q+WvvcKPW/VZr5sbR9unQiWco9KV1AzW47Y2Nl2CO9H0aOQUYoOztbBQUFunTpkjIzM7Vv3z6lpaU5S9Yg2UJ6q7aQIyBilLP9aLa+/GGb7ukS56xaZ285ppNnC0U0EEsxiMD5AmnPYmluMy8sVvc/SsMelJa08bzuIE0SfBnJ05IhEEIEjByDgDt48GCtWbNGBD3u1q2bcyf3wQcfOMvVINlCeqs2kaMPyLPnijV32zG9MChRd3Raps+nblVy2hkXT9L3jP2NQQSI/LF5gjSpnoQ02ePPnnOBNQM9/615pyTIlLVMS4ZANSNg5BgE0EaNGmnJkiVau3atOnTo4CxXIUnWIcOVaiM5gjUedtLPFKjbohTd0XGZ7u4Sp5GJB5WZW6hikyLD9TrWTL2sOaJaZQvI8Eekbv/nrU9Of1faMcNbmyw8a0GXa2Y0ak0tRo5Bhhpr1R9//NGR4aBBg1wAZKxVjRyDgBbiW6haNx/JctE+rm2zSC8NXq1Nh7NctA+z2wgx+JFQPJLigZXSvM89S9eO/y0NuM2LBnJolefLtbjQpMlIGKsob4ORY5ABHDdunB5//HHdcsstmj59ulOv9urVSyNGjAiS6+dbFy5cUGFhoTuKi69cI+E+DgZ4hr+cXy3VVsmxNC4FRcWauO6wbv1+qf707QK1n7tTJ3PO2VpkaaBi+RxPO9t/8PZOdv0/CaIc9pC0ur+UsdeTJC9d/f9ULENkfas8AkaOV8Hu7NmzziiHSB0Q2OnTp8W1qyWewTfrn//8Z1177bXq0aPHFVkmTZqk+++/XzfeeKPq1KnjCPhqZRs5/gwjqtYTOefUfOpW/f7r+bqna5zmbUuXOTL/GaNa8Ys1x8z90up+nvFOu3+VOv+vNPFVjzwJymzJEKggAkaOVwEsNTVVS5cu1ZQpUzRhwgR34FYuWMK6lcgdDzzwgPbs2SPKuPPOO9017vkSW0Py8/Od9evy5cud9x3WN4MlI8eS6AAnqtaVe07pqb4J+kvrhfpkQpJ2pedYzMiSUMX2GS8CFqxYsrJHcmFLT+3a4d+lXtd6atiDqyS2jVgyBMqBgJFjEJAgorffflt/+9vf9NRTTzkpD0kPFWuwlJeXpzlz5uitt94SEicEiEMBpEd/9ao/US5btkzvvvuus44NVraRY2B0CJ6MG7o+S/fojk5LVafzMg1asV+nzp4LnMGuxigCP5Hk+XzPJV3ybGn6OxJbQrr8xnNbh2FP5r4Y7b91q7oQMHIMgmSzZs1E+Cr+jhkzxgU87tKli3NAHiSbiwXJ8zgPILGmOHLkSDVp0kTnz5eMOkGcyGeffVY33HCDRo0aJfZWlk64rWvZsqWefPJJJ4E2b9689CN2/tP2cDzsYLDz0bhNuu37pXpt2FrncSffnAfUvncEaRLjnIIs6WSKtHaQNOYZT+Xa409eQGa2iuRnWpSQ2vd2XLXHRo5BIGratKlTqbZu3VoTJ0506k98rPbv3z9ILrl1SYgO7zokyBGyZGtIaXLMzc11sSMpn+e3b99+RdnkP3XqlFPPDhs2TLTHUtkIFF+46IxziPCBhx22fbT5MVl42DHnAWXjFtN3MMxhuweBlw+v9pwK4LKObSH9bvGcDuxb6rmri2kgrHPlRcDIMQhSvXv31sqVK530+M477+i5557Tyy+/7FzIBcnmDHZQf77//vvuMbzsdO/eXe3bty+hVvUvA0OcV155RYsWLfK/fMVvU6teAUmZF3ILi7Xj2Bm1/TFZD/VYoecHJmrC2sNO/VpmJrsR+wgQaxJLVyxad8yUZjb0nAz0vk4a+YTnxi59m1RsKvnYfxnK7qGRY9nYOEfjkBaGMxs3btTcuXOdd5ysrKwgueS2ZCQlJenhhx/W8ePHneu5xx57TImJiW4N0peZuJA+SRIjH4g3Li7OdzvgXyPHgLCUeRFJEYvW+dvTXbzIB7uv0GeTtyhxX4aLJ1lmRrtROxBwa5NHvSDMODzH8XmfG7y9k9Pe9hyjZx0yd3W1420o0UsjxxJweCdYl2Jl6n/s3LnTOR9PTk52ZBcgW4lLGRkZYn2ybt26qlevnlq0aCEMdVCvJiQkuG0hRPf48MMPhVRav3594Wjg2LFjJcopfWLkWBqR8p3nF11QyvEc9Y/bq+cGJDp1a++le3TgVG75CrCnYhsBtoMUnJZO7fZ8u+LLlVBaOEAf8Yg0/wspZb6Ue8rWJ2P7TbjcOyPHy1D8/AMXcQ0bNizzQIK8WsIqFSflEOGqVaucMQ959u/frxMnTjgJkt/4bkWiXLdunZMy/a1ZA9Vh5BgIlfJdwzr41NlCLU85qebTturx3iv1/tiNmr0lTWcKShpKla9EeyomEUDtmnPMkyY3j5dmf+pZubJGOfEVT+16ZJ1EEGdLMYuAkWOAocU6FEIr6zh8+HCAXDVzycix6jgXFl/UvpO5GrP6kHNDx/7ItnN2KulwlhnsVB3e2CoBAmTbx/44aVVvafLr0uC7PU88sxpKG0d5lrAQqqWYQsDIMchwbt682flT9UlzeMhBvYrEF65k5Fh9yGfnn9fq/RnqMG+nnu2f6IhydOJBEUvSkiFQAgHUrmz5SN/ied1Z3MrbFjLkXmncC9Kib6VdczyJs0RGO4lWBIwcg4wca4ZIj2zkJ0GSuISbNm1akFyhvWXkWL34EtEj9XS+pm86qo8nbNKTfRP0xfRtiks5qXPnzS9n9aIdI6URdPnMUelggrR+mDT7Ey9aCH5dcTiQ0EvCCTreeixFLQJGjkGGjn2JixcvvvwEa1Zs7xgwYMDlazX9w8gxNIjnFXnOAzDSeXnIGhftA+OdPSeu7kc3NC2yUqMCgaI86VSKJzWu6OypXYc+II1+2nNZlzTOC7dlbuuiYjj9G2nk6I9Gqd+dOnVyFqcYzezdu9fFdvzqq680efLkUk/W3KmRY+iwxqEKBjts+8Bg58k+CWo8abNmbUkTKlhLhkCZCDhr1yzp6AYpaay04AuPICHKKa9Lcd9LKXM9iZMXzVLEI2DkGGSItmzZIjzitGvXThBlmzZthIeaffvC55fRyDHIgFXTraLii9p74qyGxB9w65B42emyMMXFjTQPO9UEciwXgwN0rF33LvGMeH5434sWQqBmLF/XDpYOJ0rnsi3uZAS/B0aOQQYHNSoSI07E2Z84depUd+7vMDxI9pDcMnIMCawBC8XDDtE+Ws3aoSf6JOjd0RuES7r0M+dk3/4BIbOLpREoLvL2Tm6fJmHEM/5FCSMe/i5pLW2bKp3YIeGMwN6q0uiF9dzIMQj8GOMcOnTI+UYlbBXrjYSu4lq4kpFjzSJPzMjjOec0fu1hR44P94jXd3OSlbD3lHAsYCRZs+MRvbVd8vy2pq6T1g32jHhwLjDsQemH96TEPtLexVLWYQmDH0thR8DIMcgQ4NUGX6eoUVu1auUchzdu3NgRZJBsIb1l5BhSeMssnJiR245m6/t5O51F60uDV2tU4kFnsMM9S4ZAhRDIPSntWeStRU55Qxp6vzTqSWl+c2/NEhLNOyVdNIvpCuFajQ8bOQYBE2vVefPmOTLs1auXduzYoT59+pi1ahDMYvkWUiKhr+ZsPaaPxm/S/d2Wq8X0rVqUfFyZuYVCyrRkCFQIAbaJ4QB9y0QvMghWrkPu8zzxrOjkWcGe2CkV5pjbugoBW/WHjRyDYNi1a1cXoJh4jhMmTHCOyPv27avhw4cHyRXaWyY5hhbf8pZ+NCtfvZbscZE+MNjpH7dPW1Oznaq1vGXYc4ZACQTOF3jWrol9pelvS1i6csz4UFo31NtXmX3EooWUAC10J0aOQbDFGw5+Vjt37uw84xChA0kSf6nhSkaO4UL+ynqRFFl7/GzKFhHt48Nxnp/WtKwCmar1SrzsSgUQQKXKGuTi1tK45yX8uhJOa2FLaccPUvpWU7tWAM7KPGrkGAA1QkmdO3fOBSHevXu3Sh9E3AhXMnIMF/Jl15udX6TRiYf06tC1eqRnvDrO36X1B087Z+amai0bN7tTDgRYczx90FO7zvrYkyQH3iFNeElK6CHtX+75fkXtauZh5QC0/I8YOQbAavr06Y4Y2b7x9ddfX3FguRquZOQYLuSvXu/OYzlu28fDPeP16tA1mrDusA5m5KnQ3NBdHTx74uoIEHwZiREH6MSdHHC7BFGyjxLHA8e2ePsriwuvXpY9cVUEjBwDQMTm/+zsbAEO4alKH0iS4UpGjuFCvnz1EvFj7rZjqj9yve7tutx52mGv5Om8Iov4UT4I7anyIFCQ7UmNi772toMQoBlDHtSuWMFm7pcKsszJQHmwLOMZI8cAwBBv8ciRI2UeZ86cCZCrZi4ZOdYMzlWt5Vh2gfDT+kSflc4Nnc9Pa0GRmeZXFVvL74cAbuvOHpe2TZGmvyv1/ZvU4y+e67pVvX6WJvEBa9bUfsBd/aeRYwCMPvvsMz3xxBN68cUX9frrr+vNN98scUBQ4UpGjuFCvuL1Xrx4SesOZKrRpM26s9MyJ03itzUzr0hEA7FkCFQrAsSUzNgnYe3Knskef5K6/0ma8pa0dYq3dok06ZwM2Pt3NeyNHAMg9MYbb6hOnTpq2rSp28KxcOFCLV++XImJicIJeWpqaoBcNXPJyLFmcK7OWnIKzju3c88OSNRdnePcuuSOtDMuJJZ9zFcn0lbWZQQgwCNrpUUtpb43SZ3/V+p7ozS/hXRwpXT2hFSUb04GLgN25Q8jxysxcfEbN23a5ByOP/300/rggw9cDMejR4/qwoXwqsWMHAMMWJRc2n8yV+3m7NTtHZc6deu4NYdsLTJKxi6qmwkJ7pwtTX1L6vp/Uof/9NYpE3pKzsHAWQmp077USgyzkWMJOEqeEOSYLR3Lli3TM888o/r16yspKankQzV8ZuRYw4BXc3VE/IjffVJvjFin675bpHdGb3Cq1+ILF80Qv5qxtuICIECQZny7Dn9I6vgrqdP/J018Wdo6WcpJl4g7yTqmJWeQ+c4779QoEv9Qo7VVsrLz5887NWrz5s314IMP6t1333V+VnEEEM5k5BhO9KunblZ7iBs5POGA7u4cp9s6LlWXBSnKyDUT/OpB2EoJjsAlT52aluRFCul9g9TuX6Wef5F+bOSpXTHgqeXJJMcALwAecR599FF9/PHHbhvH8ePHXWQOVKrhDFdFU40cAwxYFF5Cg4UUuf3oGbWYttVJkbihw2/rBfxtWjIEQo0AEiJrk/mZUso8b79kjz9L3/+nNPgeCd+ux3dIxKeshcnIMcCgP/DAA/rFL36hX/7yl/rVr36l3/zmN/rtb3/r/vIbJ+ThSkaO4UI+NPUSPBnrVfZGPj8wUTd3WKLGkzZr78nwaihC01srNTIRuOStORblek7QNwyXxj4ndfu91P2PXuzJTWOk7NRatS5p5BjgbT116pTS0tIuH8eOHROH71o4VatGjgEGLMovIUXiRWffyVznzPyOjsucr9YhK/ebI/MoH9uoaz7SJIGX8zKkI2ukuA6ey7quv5P63SLhwm73Aukc7upiOxk5Rtn4GjlG2YBVoLlIkVn5RUrcl6EPx21yUuTrw9dp9b7w+fKtQPPt0VhDAAtWPPGcPuCFzvqxsdT/Nm//5LCHpGXtvSgiMap2NXKMshfayDHKBqyCzcVYh7XIw5l5Gr/usHNkjhu6tnOSlX6mwGJGVhBPe7waEEC1QTgtPPEc2yxtGCFNek3qfb3U7ybPz+v64VLWoWqoLHKKMHKMnLEoV0uMHMsFU9Q/hOFXzrnz2nwkS9/O2qHbvl+qFwYm6odNR13A5ajvoHUgOhEgSsi5M540eWCFtLyjNOoJqdc10pB7pdmfensqkTijfHOSkWOUvaJGjlE2YFVsLqrWo1kFzmDn5cFr9ED3Ffp82lYXWBkJ05IhEDYEULvmnpDSt0k7ZkhzPpMG3e1Jk6Oe8tYrD6/2pM6wNbLyFRs5Vh67sOQ0cgwL7GGv9Nz5C9p+NFs9l+wRIbGwbB0Sv1+mag370FgDkBBRu6JWhQzXDZEmvyH1v9WLFDKtgbR+qHRq909+XaMDMiPHEI1TQUGB4uPj9cknn6hJkyaaPXv2FTXheadly5bC0fk333wjXNYVFgbfCG7keAWMterCiZxzWrLzhD6ekOTWI/nL+dlztXMvWq0a/Kjo7CVP7XoiWdo93zPaGfOMF3sSZ+j4dkXKzDkW8X5djRxD9MIdPnxYb7/9tkaNGqXJkyerbt26biuIvxOBRYsWacaMGZo3b55wPNChQwft2bMnaIuMHIPCUytunr9wUbvSc5yHnRcHJbq1yK4LU9w17lkyBCICAbaF4JIOB+hJ4ySsXYc/LA29X5pUT4rvIh2Il/KJOxl5UUKMHEPwFuGPlSgehLzKzc1VTk6OPvzwQ02cOLGE4/KTJ086360Q5vr1652D89WrVwdtkZFjUHhq1c3s/CKt2H1S38zcrqf7Jui9MRs1dWOqkC4jcK6pVWNjnS2FQPE5z8EAgZiJM0kYraEPeKG1ZjfyLGCPb/P2WJbKGq5TI8cQIE8w5EmTJjl1KsVDlgMHDtRXX32l4uLA6q+ZM2fq888/15YtW65oEYGXp0yZoq5duwpHuJRjyRAAgYuXLmn/qVxNWHtYDUatd1Jkmx+TtXp/pvIKA79rhpwhEFYEsGRlSwgxJhd9K417Xhr6oDThJWlJGyl5lhd7sgL7JxEwzhSc18GMPG06nOWWGqZsOKItqdkqOF+5SEpGjiF4S06fPu3UqV9//bUrnXXEMWPGqFGjRsKheemUkpKixo0ba9y4ccrMzCx9W/h2XbJkibvfrFkz+cq94kG7UGsRyC8q1toDmeq0YJdeGLhab41crxEJBx1xYvFqyRCIOATYFsLaI1tC1g6UZjaURj4ujXxMmvGBlNjHu5d7yqldCRCOk4wDpzwCXLrrhKZtTNXQlQec4340KJ9O3Oze/RcHrVbdQas1Ye0Rl6cyfTdyrAxqV8mD5Mg6I2RIQnLs37+/I7XSkiOBk1u3bu3WHA8ePHhVx+amVr0K+LX8NtarM5KO6pMJSXp+QKK+mL5Vi5KPO/+ttRwa634kI/CT2rVo6wxlz22jjOF1ldv/Pl0c86yK532hY8uHadGShery4yY1mbxFb4/aILY2vTR4tV4avEavDFmjd8ds0OdTt6r93J3qu2yvxq45pC1HslVQZJJjxAw9kuLKlSv13HPPufVGyLJBgwaaPn16iTXHjIwMR4pYqiI9lieQspFjxAxzxDYEoxyiffRZutdNGq8OXaO+cXu17Wi2Cm1vZMSOW21pWGHxBReejeWApCNZbt189pY0R2b9lu1Vxxnr1G7wOPXo+JWmfveSNne4Vyntb9Xi1o+ob+v31a5bV7UbM0c9Fu7UyMSDmpGUpuUpJ7U5NUuHMvKUnX9e1aEtMckxRG8k64QNGzZU7969NWjQINWrV8+pR9euXat9+/Y5IkTVetNNN7ntHKNHj3aWq6hQgyUjx2Do2D1/BFBBITU2n7ZVzw1I1CcTkzRzc5rSsgrMYMcfKPtd7QjgSJ+YpRAg0tvKPac0d1u6Jq07okEr9qvj/F3uvXxvzAbVG7bWSYF4gEIVWn/keqce/XbmVg1bsFYblk5T9qJO0rQGujj0QeUPflj5P3yii7isO7RKyj0ZEm88Ro7V/lp4BaJKhQhRmbZt21aLFy92N9i2gdENa48QIuuH3GcbR58+fYRqNVgycgyGjt0rjQAGOxgpjFh1UG+OWOdUrZ3m79K6A5nKNYOd0nDZeTkR4L1CXXnyJwLcmpqtVfsytGBHulsHHLbygDovTNEX07cJAnx9+FqnAn22/yq3Js672HD8JncfosShBeuHcbtOOiOa1NP5yj1X/LMvYeJOnj4obZ8uLfzaC6M16B4vtNbStt7eyfStUmFutW0LMXIs58sQKY8ZOUbKSERXO5jIIMQ2s3fo2QGJemvEOk1cd8QMdqJrGGu0tRcvXnJ+fCHAAxl5TlW/Zn+mlu484TQQoxIPqtui3fryh216f+xGR4Dsu32qb4Ke6b9Krw1d665/NmWz2s1N1oDl+zRlQ6qW7Trh3B/iFjG/qBIB5M+f86xd8cSD4Q57JwffLU2rL60ZIO1b5vl+LQ7uUOVqYBo5Xg2hCLtv5BhhAxJlzUHVNX1jqt4ZvUFP9ElQyxnbncrrdF5RlPXEmlsdCLA2x5YfCJD1uuRjOdpw6LRW7EYNesytA/ZYvEdfzdjuwqghAWLo9USflY4EMYphC9GnE5PUZnay+sXt1eT1RxwBbkvN1rHsArHGGBJ7aRcINUfaFyfFtfe2ggy8Uxr+iDSvubRlsueyrpIkaeRYHW9YDZZh5FiDYMdoVcUXLmnPibPqunC3+8J/tn+ihiUc0O7jZ124rBjtdq3tFgSICp0Po8OZ+Uo5nuOivRA3dOGO45qw7rALsv31jO36aPwmtwaI5Pdor3g93nul2ztLXFHuESEGS1AIMC7lhLannXFOJyLCMxPbQrZN9TzxsCWE2JNIl/lXbo8rz8tg5FgelCLoGSPHCBqMKG8KEgMedpj0HuyxQh+M3ei++E+ah52oGlmkMvYAQoAZuYU6mpWvvSfPOuLacPC04lJOatL6I+qzdI/TFHw4bqNeHbrWaQ6I8vJIz3j9vd8qZxSDlyW0Cb2X7nF5yJt87Iwrl4+qqEjsnzy+XVoz0HOEXpRfqWYbOVYKtvBlMnIMH/axWDOeRZAohicccBMkgZW7L96tlPScSu8Pi0Wcwt0naAnpDALMzC1y6koMrTwpMFvxe04514FIdV/PRAW6US8PXu2I767OcXqw+wpHhlgtNxi1wa0T9lriESDbIPDVm5VXVC1bIMKNVXXVb+RYXUjWUDlGjjUEdC2rhol357EcfT51i+7uEqdnB6zS/O3pSj9zzibMGnoXfASIRM82HHzkYrXJdogdaWe0au8pZ9HpCHDGdmfsgicYpL87Oi0THzaEM8MgBmtQHEAQ4gwVaPzuU9p74qzOnjv/swVoDfUrWqsxcoyykTNyjLIBi7Lmsj9tztZjwuT+pvaLnYSB8wBCYmG+b6lqCAAhHyK4+8MXKGpQjFZYC2QdePW+DE3flOrW9VBv4vWF9T8+WG79fqnqdI7Tfd2Wu7XAesPXqcW0rW69ED+iCXtPOSI1n7pVGyNfbiNHHxJR8tfIMUoGKoqbyQR+Oq9QHeft0p2dlum+rss1ZvUhYXpfdOFiaCwPoxiv0k33ESAOr/moQApEdY0UjkUoW2p+SDrqEeAP2/T2qPVO5Qn53dR+iSNBcH+oxwq3Nvj5TwQ4dUOqMKI5lJlnKu/SoIfg3MgxBKCGskgjx1Cia2WXRoAIB28MX6sb2i52JvtINkg8tV2KhAAxgsEdH3v1IEHclmXmFjpV6PqDpx0B9lm216k32VeK4ct13y1yx43tFuvm9kt0T5c45+IPAsQIZvqmo44807LyhRRvKXwIGDmGD/tK1WzkWCnYLFMVEGCf2ujVB506D1VrlwUpzusO6sFYVrRCgGyDoJ9FxRd17vyFn4jwvFOFbjx02jl5xwoUF32vDV2je7vG6ZrWi/TnVgv119YLHREiBeIgm/VcCBDH8OwlPJ5zTsUXLTh1FV7NkGY1cgwpvNVfuJFj9WNqJZYPgSOZeWo2dYuTItn/NnvLMSdFQiLRmmg67UcShgg52LIAGR7PKdDGQ1mOzCC1ZlO2ON+ft3dcqj9+u0D/9/V8/f6b+frztwvEtbo/ESAGM7M2pynpcJYyzhZeNdJOtGIX6+02coyyETZyjLIBi7HmXrhwSYuTj+uZfqv011YL1XjSZhftA1KJtsQ2FvZ0shfwh02pwhNMk0mbnZN2JGSI73ctveMP3yxw668vD1njjGD6x+3Vj1vThBcYVKkQKgTLAdm6I9oAsfaWQMDIsQQckX9i5Bj5YxTrLYQI2WbAPjnWzDgGLt+n42fORVzXkQCxBiUQNAYtPRbvdgSIC7RbOyxxqk9UoH/6doFThd7fbbnwBoO/0AFx+xwBEk0eEs0rKnaqVcpE1cqaoyPDiOu1Nag6EDByrA4Ua7AMI8caBNuqKhMBJCPW4DA8+XhCkm7psFSvD1unxckn3PUyM1bzDaQ/nKqzFYKoEOzp675ot5pM3uyiP9TptMypgTGEuabNIl3fdrEe6RXvwiLhLg1SRwLcfCRLx88UOKMajGswsqF/WOfyMUB/LdUuBIwco2y8jRyjbMBivLlIUGxTIE4f3lfqdF6mVrN2OI8rEFd1pfzCCzpwKs85SSeaSNeFKY4AXxyY6Da/3/bTNgisavnNRnj2CH47a7uLH8jeTSxvca2Gk20crecUnHdOt7EKRQqsxuZWV7etnDAiYOQYRvArU7WRY2VQszyhRAAKZOM5Tqjbz93pXJWhtmRvZEWifVAGXlyW7z7pnGF3W5giwh1h6flQj3jd1SVOt3dcpps7LHGb4iFjQiVBxoNW7BPR5JFk8ShDQGdUv9SPVxj2HLIuWH10HUpErexIQMDIMRJGoQJtMHKsAFj2aI0igPSFFInbOUjrnq5xLpTRqr0ZbssC6kn2AuLHc1nKCY1fe9hFBmk6ZYvbBvFYr5XOFRokiPT3QLcVwj0afkIhQFSgMzenufVDfL/iWzQtu8DVSbmoQotjfHtJjQ5oLa/MyDHKXgAjxygbsFrYXEgKh9gDV+ySs5+oAAAQa0lEQVRzbuge673SxY98Y8Q659z80V4r3Z5JHGKzMf6VIWtcVHgfAbIPEGcD24+ecS7VDmfmOWMfHGNjFONUoLUQV+tyzSJg5FizeFe5NiPHKkNoBdQAAkiJbHEgJNZ3c5KdBWjDCZucBNg/bp+mbUp1zrDZC0iA3QOoQrMLlPkTAZLfkiEQTgSMHMOJfiXqNnKsBGiWJWwI4F4NIxiiSuBYOzUr3znbZn3RCDBsw2IVlwMBI8dygBRJjxg5RtJoWFsMAUMgVhEwcoyykTVyjLIBs+YaAoZAVCJg5Bhlw/b/t3feP1YWXxj//gEaIyEhYvyBmFgiwQJYUCGCoCDSlVVBBcWGYsC+LquLIIg0xbZiA0VBAiqrLtKxgIai2EFULKAUpUkT8JjPJHPzfje7uOxe3p2595nkbrn3vu/Mec6888w5c+aMyDEyham5QkAIRImAyDEytYkcI1OYmisEhECUCIgcI1ObyDEyham5QkAIRImAyDEytYkcI1OYmisEhECUCIgcI1ObyDEyham5QkAIRImAyDEytYkcI1OYmisEhECUCIgcI1Pba6+9ZgUFBTZ9+vQgX5MnTw6yXdnGCzmZqGT7viHe79VXX80LWfNJzmnTpuVF32W8rKmsI0eOdGNtmhTxvzQry7W6PvjgAxs0aJAVFxcH9yosLLQTTzzRioqKgmtbNvEaPHiwnXTSSXbffffltJwesyZNmtgdd9yR87KefvrpNnDgwJyXs2nTpjZgwICcl5P+e84559hNN91UI1l5vkeNGpUqhYgcU4U7vcp27dplzZs3t71796ZXaR3UdODAATv77LNtx44ddVB7+lW2bdvW1q9fn37FKdd4ySWX2Nq1a1OuNf3qunbtaqtXr06/4jqo8eqrr7bly5fXQc01q1LkWDPcgr9K5Bi8imrUQJFjjWAL9iKRY7CqMZFjuLqpVct2795tnTt3tr///rtW9wn9YizHbt262c6dO0Nvalba17t3b9u4cWNW7hXyTfr27Wu//vpryE3MSttwM/7www9ZuVfoN2E54Isvvgi9mZn2iRwzUOTWH/v377e33nrLII9cLv/884/NnDkz5ycBXofl5eV5MRF477338sJVPnfuXNu2bZtXb07/XrRokW3evDkaGUWO0ahKDRUCQkAICIG0EBA5poW06hECQkAICIFoEBA5RqOqyhuKW5H1tnXr1mVeP//8s3PV4FL9/fff3drNb7/9lhOuR2TasmWLkwmZWX8Dg3379mVk3bBhQ/SyIufWrVszcuJ6Q07eR2bW49Dpnj173PuV944w30VXyEA/RQZfkA3dedmS6+XIT5Qun/E33w29sLTh5UxGGPO88j/RuPyNXn3566+/Mv2Yfg5WoZeknDyTvtB+Py4xDiUj55Hbj01//vlnkHKKHL0mI/1NVOrs2bOtdevW7nXeeefZMcccY88++6z99NNP1qlTJ7e/6OKLL7ZPP/00etJgsGHvJnK2atXKrrzySreOwUI/srKtgwCdzz//3HhoYywMln/88YeVlJTY+eefby1btrThw4cbuoYcevXqZeeee65ddNFFxjoOBBlToV8S1n/CCSc4HdJ2ZP7ll1+M6E32w9Ffly1b5vorg+qYMWOsXbt27rOxY8dGsZ0FAuzTp4+Tk37pC7EAbdq0sSOOOMJmzJiRWUOmv06aNMkuvfRSO/PMM409vN99952/LNjfmzZtsuuuu87JecYZZ2TIfujQoXbBBRc4HXfp0sUWL17s+ipykuSBgEHkZE/2t99+G5x8IsfgVFLzBjHA/Pjjj3byySfb999/7zZRP/roo65DPv3003bXXXf930y95jXVzZVYEjxgDJ4QBRG5l112mb344ot2+eWX28svv2zMvHkoyaiRnMXWTYtrVitkN2/ePDeoICf/t2/f3k1u2Az9yCOPOPJkIL333nuj2yfHnlT0SNANExwKAyYJNeivyMzk7u6773aTgffff99uvPFGI4UYZNG/f39HKkmLq2ZIH96rsI6Qc/78+W7S5mtjXyMvJgLvvvtuhhzXrFlj1157rc2aNctZ0Lfddpu98MILwU/yeA4/+ugjIylKkhzRG88jenrsscfc+MO4RHRuv379rKyszMlJFOszzzwTnJwiR99jc+A3HXHq1KnGBmoGGDLkMEv37ioGopg3HHtyZLaJBYk7hlk2A8xxxx3nyJAH8bPPPrNrrrnGvvzyyyi1un37dmdBkDmFgv4eeughGzFihJEhBw8A7jZm7AywDMCxFXT58ccfZ8iR/8l0xODp+yvW1ddff+3kfuqppzKTHSZ5paWlbuANXW70xMb3pOXo28zELkmOr7zyij388MMZKwoLmRfegtALkxu8N0lyTLZ5zpw5duutt9o333xjU6ZMcXJ+9dVX7itPPPGEmxThOQipiBxD0kYt24IPn31TzLqZtR599NEZlxukceqpp7rOWctq6vRy3I0PPPCAHXXUUXbsscfaVVdd5axhSAPCpODOwo0TUzaOJKhYigsXLrSzzjrLWYiQJW7kW265xRo0aODW6vg+OiUpAN+NrVQkR1yn9erVy2zfQLZmzZo59ziWBcSB7ikQCAMq65Ohl0MhR6yr8ePHuwktcuERIWVaiC7Hirj/FzliBY8bN86tMz755JPOkvT7O9Etnh4mQiEVkWNI2qhFWxhMeIggCcihIjly69NOOy1qcuQBZLbZs2dPN4AwGcBy4uE65ZRTMuRIkAfrGbGSI7oi6ASrgbVF1tpwQ2FJJsmR7/FZLpEj3g9fqiJH1l8hR/QfehE5mpusExsA+TFOeXJkCYgicgy9F0fePqwLTqdg7Q23FG5VAh5wVdAhsaoI7IjZrUr0JuuKrE0hI9YHVjKk0bBhw0yQxsqVK13AR0zZOCp2P3SGDnEdYzGx1ohlweQHtzGDLhuqc8mtyjIAAya6xWVMkBkDKpYia+ZM+iisReJWjSGf7qGQI30b4l+1apWTE0srdrcqwUcsfbBezPNKIRgHOb1bFbJkrZno5ZCKLMeQtFGLttCxbr75ZnvppZfcXXBTEbjAgIqb7vnnn3cBOn6AqUVVdXYpVgXRfUQyEgTA64YbbnCuJ9yoHImDxUzACg9fDGs1VYEJQUCKkCS65fQGglFYbxs9erQjTeS98847o3C7VZSzolsVr4B3vTEpwKXIJIjJHQEtuJSJXmVNkn7NEWVgE3o5FHLE80PUJ9HnTGZvv/1299xyj9BLZW7VDz/80Hk2FixY4J5VLwMTdAKs3nnnHTcJok+zpuzJ03+vrn+LHOtaA1mon4F0xYoV1qJFi0w0Ku8xA4U0cL0xeyMAIrnXKAtVp3oLZIIoWNhnG0PHjh2dhUhUKjPT7t27uzW4Hj16ZLYBpNrALFaG5UTARocOHVyAFa4nJjmQA9sg0CnyE+jAhCCmAuGxNs6xVKwdX3jhhY7s6K/o0MtGBCQy+wkPfZjvYmUQaBZ6wb0PqROkcuSRR7ptDa+//rojP/pv/fr1rXHjxnbFFVc4vUIOzz33nNF/sZrvv//+4NbhKsMcDwYTFiZwbE/BQ8XEDRkaNWrknkm2WTGRwzOAnEzi6d98h4jrEL08IsfKtB3hewwgDC4QiC/MOAkPxzWF1YGlFcNs27e/st/IBBkS9cZM20fjQvpeVgiEQTXmgpzMsL2cuM3RHTN0BhjeR6c+VD4mWdEVwRgMiLiI6Z9YyciM7irrr1hSHg/+5ruhF0ggKSduRIiE5QFkxP0PBv7ZRB42zvt+DLnGMJlFF0k5iRJnckcfRWbfh0l64J/LpJx4s0KUU+QY+hOm9gkBISAEhEDqCIgcU4dcFQoBISAEhEDoCIgcQ9eQ2icEhIAQEAKpIyByTB1yVSgEhIAQEAKhIyByDF1Dap8QEAJCQAikjoDIMXXIVaEQEAJCQAiEjoDIMXQNqX05gwDh6hwxRQJxEomzj+3BBx90/7MvjG0aByvsD3zzzTf/c1/j3Llz3b7Xg90rG5+xfYgN6z6jSzbuqXsIgVAQEDmGogm1I+cRYD8Y+V45hqi4uNidO0nqO/4vLy935Jjcp1oREHKJVsw2UvE7/E+yB/aWHe7CvtklS5a4Q3sPd126vxBIGwGRY9qIqz4hYGZLly511iM5Q7EGp0+fbhMnTnTkhyU2YcIEd8YdmUTYOE4h4QEZVtj4/8knn7jz8MjHSRJuyNWfWsExSGQMIi8rZEp2He5DCkGuo2D18TfXQs5vv/22vfHGG+6zyn6Qio+6aC8vNn2TmIDr2NDO4dL+c1IWIgtycHIG7eG8Pt4jk5OKEIgBAZFjDFpSG3MOAU+ORUVF1rt3b5cXlyTqpIMjawxHF5F0mtRaECUWJYfHknILwuHzgoICl5R72LBh1rdvX3fgLFl0yFEK6ZFthryVHOv1+OOPu1yluHHJMENmloEDB1pJSYk7LohDdjkDs6pC22gLqdvI7QrxkdmE9Gjku+WMSciXvLbdunVzMuFC5kBj6oAwOYQad3IMp2lUhYPezx8ERI75o2tJGhACSXK8/vrr3TE+EBuuVyxErDisvcLCQpd/kvXIiuTYp08fZ7WRqLtXr17uoGvWNZPkyFmIQ4YMcZYiRAUhkhCa0xI4RohUZpDVPffcc1ByZH0UkuN4LNL3kQaM6zw5Ai0EjpsVAsaKJFE415EcHuuVtVZOjYE0VYRA6AiIHEPXkNqXkwgkyZGEzATRUMg5CbFAcKxLcjIDRzlVRo5YjP7kEU5kgYBwuSbJEWsNy5NCIu/Bgwc7Ny7HBrHeSeHsSOo8mOUIofngIaxWXKnUnSRHcp9yGgqfQ5yLFy9251BilULQXM/hvViZKkIgdAREjqFrSO3LSQSS5Mj5hN6aIqk4liTRq1iBrOkdf/zxzqKsaDniwsSKo0BSEBxnHCbJkbMQcXdSICvIsayszK1xYnlidbKmCakdjBwhXeqaN2+eO0OSI6VI/O7JETKEFLmPDwbCPYwblbVGyJ0X9YWYZNoBpB9CIIGAyDEBhv4UAmkhUBU5QkCs7UEyBLJwyHG2yZF1TYJxWKecMmWKTZs2zbllOUuwquLXD9m6AflC3pCgJ0fu0bNnT2cdcn8CgiDPSZMmGa5dSB55cO2y5qkiBEJHQOQYuobUvpxEgGOKICasPaJF/Xl2bI/A/ck6HeuDfAZpsZ7HUUCQJuuEWH8Qko9k5bBYDgXmeiJDISOOPJo6darbiwiIkBn1cVQS7lsCaThXEbLjN+ubVZXJkye79kCGuEhpP9GwnOKORcp9aSf34bxN3KfIxPmbpaWljkR5n2AejjNSEQKhIyByDF1Dap8QOAwI4CblrD0sSCw61jZnzpx5GGrSLYVAnAiIHOPUm1otBGqFANswsDbZRkLAzLhx49x6INYma4XJF4fvcnCvihDIJwREjvmkbckqBA6CAMEyJBlg7TD5wo2KG1ZFCOQTAiLHfNK2ZBUCQkAICIFqISByrBZM+pIQEAJCQAjkEwIix3zStmQVAkJACAiBaiEgcqwWTPqSEBACQkAI5BMCIsd80rZkFQJCQAgIgWohIHKsFkz6khAQAkJACOQTAiLHfNK2ZBUCQkAICIFqISByrBZM+pIQEAJCQAjkEwL/ArJBwd7SqRA+AAAAAElFTkSuQmCC)"
      ]
    },
    {
      "cell_type": "markdown",
      "metadata": {
        "id": "AEBTriHqC-RC"
      },
      "source": [
        "Typical features of the learning curve of an underfit model\n",
        "\n",
        "Increasing training loss upon adding training examples.\n",
        "\n",
        "Training loss and validation loss are close to each other at the end.\n",
        "\n",
        "Sudden dip in the training loss and validation loss at the end (not always)."
      ]
    },
    {
      "cell_type": "code",
      "metadata": {
        "id": "4k0pG1hyAzAH"
      },
      "source": [
        ""
      ],
      "execution_count": 93,
      "outputs": []
    },
    {
      "cell_type": "markdown",
      "metadata": {
        "id": "zdUvonKlChCR"
      },
      "source": [
        ""
      ]
    }
  ]
}